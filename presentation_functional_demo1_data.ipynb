{
 "cells": [
  {
   "cell_type": "code",
   "execution_count": 5,
   "metadata": {
    "slideshow": {
     "slide_type": "-"
    }
   },
   "outputs": [
    {
     "ename": "NameError",
     "evalue": "name 'asyncio' is not defined",
     "output_type": "error",
     "traceback": [
      "\u001b[1;31m---------------------------------------------------------------------------\u001b[0m",
      "\u001b[1;31mNameError\u001b[0m                                 Traceback (most recent call last)",
      "\u001b[1;32m<ipython-input-5-77bfab3d3357>\u001b[0m in \u001b[0;36m<module>\u001b[1;34m\u001b[0m\n\u001b[0;32m      3\u001b[0m \u001b[1;33m\u001b[0m\u001b[0m\n\u001b[0;32m      4\u001b[0m \u001b[1;32mif\u001b[0m \u001b[0msys\u001b[0m\u001b[1;33m.\u001b[0m\u001b[0mplatform\u001b[0m \u001b[1;33m==\u001b[0m \u001b[1;34m'win32'\u001b[0m\u001b[1;33m:\u001b[0m\u001b[1;33m\u001b[0m\u001b[1;33m\u001b[0m\u001b[0m\n\u001b[1;32m----> 5\u001b[1;33m     \u001b[0masyncio\u001b[0m\u001b[1;33m.\u001b[0m\u001b[0mset_event_loop_policy\u001b[0m\u001b[1;33m(\u001b[0m\u001b[0masyncio\u001b[0m\u001b[1;33m.\u001b[0m\u001b[0mWindowsSelectorEventLoopPolicy\u001b[0m\u001b[1;33m(\u001b[0m\u001b[1;33m)\u001b[0m\u001b[1;33m)\u001b[0m\u001b[1;33m\u001b[0m\u001b[1;33m\u001b[0m\u001b[0m\n\u001b[0m",
      "\u001b[1;31mNameError\u001b[0m: name 'asyncio' is not defined"
     ]
    }
   ],
   "source": [
    "import matplotlib.pyplot as plt\n",
    "import sys\n",
    "\n",
    "if sys.platform == 'win32':\n",
    "    asyncio.set_event_loop_policy(asyncio.WindowsSelectorEventLoopPolicy())"
   ]
  },
  {
   "cell_type": "code",
   "execution_count": 2,
   "metadata": {
    "slideshow": {
     "slide_type": "slide"
    }
   },
   "outputs": [
    {
     "name": "stdout",
     "output_type": "stream",
     "text": [
      "===Meta Parameters===\n",
      "{'in_bars_count': 30, 'out_reward_window': datetime.timedelta(days=7), 'state_type': 'in_window_out_window'}\n",
      "===Objective Parameters===\n",
      "{'percent_commission': 0.001}\n"
     ]
    }
   ],
   "source": [
    "from lib.Environment import DeepTradingEnvironment, LinearAgent\n",
    "import numpy as np\n",
    "import datetime\n",
    "# parameters related to the transformation of data, this parameters govern an step before the algorithm\n",
    "\n",
    "out_reward_window=datetime.timedelta(days=7)\n",
    "meta_parameters = {\"in_bars_count\": 30,\n",
    "                   \"out_reward_window\": datetime.timedelta(days=7),\n",
    "                   \"state_type\":\"in_window_out_window\"}\n",
    "\n",
    "# parameters that are related to the objective/reward function construction\n",
    "objective_parameters = {\"percent_commission\": .001}\n",
    "print(\"===Meta Parameters===\")\n",
    "print(meta_parameters)\n",
    "print(\"===Objective Parameters===\")\n",
    "print(objective_parameters)\n",
    "\n",
    "\n",
    "assets_simulation_details={\"asset_1\":{\"method\":\"GBM\",\"sigma\":.1,\"mean\":.1},\n",
    "                    \"asset_2\":{\"method\":\"GBM\",\"sigma\":.2,\"mean\":.2}}\n",
    "\n",
    "env=DeepTradingEnvironment.build_environment_from_simulated_assets(assets_simulation_details=assets_simulation_details,\n",
    "                                                                     data_hash=\"simulation_gbm\",\n",
    "                                                                     meta_parameters=meta_parameters,\n",
    "                                                                     objective_parameters=objective_parameters)\n",
    "\n"
   ]
  },
  {
   "cell_type": "code",
   "execution_count": 3,
   "metadata": {},
   "outputs": [
    {
     "name": "stdout",
     "output_type": "stream",
     "text": [
      "on date 2022-02-11 00:00:00 we observe (62,) input features\n"
     ]
    },
    {
     "data": {
      "text/plain": [
       "asset_1_log_returns          -0.003720\n",
       "asset_2_log_returns           0.004821\n",
       "asset_1_log_returns_lag_0    -0.002136\n",
       "asset_2_log_returns_lag_0    -0.005383\n",
       "asset_1_log_returns_lag_1    -0.006827\n",
       "                                ...   \n",
       "asset_2_log_returns_lag_27    0.010287\n",
       "asset_1_log_returns_lag_28    0.019641\n",
       "asset_2_log_returns_lag_28   -0.001108\n",
       "asset_1_log_returns_lag_29   -0.012692\n",
       "asset_2_log_returns_lag_29   -0.007966\n",
       "Name: 2022-02-11 00:00:00, Length: 62, dtype: float64"
      ]
     },
     "execution_count": 3,
     "metadata": {},
     "output_type": "execute_result"
    }
   ],
   "source": [
    "date=env.features.index[100]\n",
    "state_features, weights_on_date =env.state.get_state_on_date(target_date=date)\n",
    "print(\"on date {} we observe {} input features\".format(date,state_features.shape))\n",
    "state_features"
   ]
  },
  {
   "cell_type": "code",
   "execution_count": 4,
   "metadata": {},
   "outputs": [
    {
     "data": {
      "text/plain": [
       "asset_1_log_returns          -0.003720\n",
       "asset_2_log_returns           0.004821\n",
       "asset_1_log_returns_lag_0    -0.002136\n",
       "asset_2_log_returns_lag_0    -0.005383\n",
       "asset_1_log_returns_lag_1    -0.006827\n",
       "                                ...   \n",
       "asset_2_log_returns_lag_27    0.010287\n",
       "asset_1_log_returns_lag_28    0.019641\n",
       "asset_2_log_returns_lag_28   -0.001108\n",
       "asset_1_log_returns_lag_29   -0.012692\n",
       "asset_2_log_returns_lag_29   -0.007966\n",
       "Name: 2022-02-11 00:00:00, Length: 62, dtype: float64"
      ]
     },
     "execution_count": 4,
     "metadata": {},
     "output_type": "execute_result"
    }
   ],
   "source": [
    "state_features\n",
    "\n",
    "#plt.plot(state_features[asset_1_log_returns])"
   ]
  },
  {
   "cell_type": "code",
   "execution_count": null,
   "metadata": {},
   "outputs": [],
   "source": []
  }
 ],
 "metadata": {
  "celltoolbar": "Slideshow",
  "kernelspec": {
   "display_name": "e599a",
   "language": "python",
   "name": "e599a"
  },
  "language_info": {
   "codemirror_mode": {
    "name": "ipython",
    "version": 3
   },
   "file_extension": ".py",
   "mimetype": "text/x-python",
   "name": "python",
   "nbconvert_exporter": "python",
   "pygments_lexer": "ipython3",
   "version": "3.8.3"
  }
 },
 "nbformat": 4,
 "nbformat_minor": 4
}
