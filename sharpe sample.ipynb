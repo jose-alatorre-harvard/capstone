{
 "cells": [
  {
   "cell_type": "code",
   "execution_count": 1,
   "metadata": {},
   "outputs": [],
   "source": [
    "import pandas as pd\n",
    "import numpy as np\n",
    "\n",
    "import matplotlib.pyplot as plt\n",
    "%matplotlib inline"
   ]
  },
  {
   "cell_type": "code",
   "execution_count": 11,
   "metadata": {},
   "outputs": [
    {
     "data": {
      "text/html": [
       "<div>\n",
       "<style scoped>\n",
       "    .dataframe tbody tr th:only-of-type {\n",
       "        vertical-align: middle;\n",
       "    }\n",
       "\n",
       "    .dataframe tbody tr th {\n",
       "        vertical-align: top;\n",
       "    }\n",
       "\n",
       "    .dataframe thead th {\n",
       "        text-align: right;\n",
       "    }\n",
       "</style>\n",
       "<table border=\"1\" class=\"dataframe\">\n",
       "  <thead>\n",
       "    <tr style=\"text-align: right;\">\n",
       "      <th></th>\n",
       "      <th>asset_1_log_returns</th>\n",
       "      <th>asset_2_log_returns</th>\n",
       "      <th>asset_1_log_returns_lag_0</th>\n",
       "      <th>asset_2_log_returns_lag_0</th>\n",
       "      <th>asset_1_log_returns_lag_1</th>\n",
       "      <th>asset_2_log_returns_lag_1</th>\n",
       "      <th>asset_1_log_returns_lag_2</th>\n",
       "      <th>asset_2_log_returns_lag_2</th>\n",
       "      <th>asset_1_log_returns_lag_3</th>\n",
       "      <th>asset_2_log_returns_lag_3</th>\n",
       "      <th>...</th>\n",
       "      <th>asset_1_log_returns_lag_25</th>\n",
       "      <th>asset_2_log_returns_lag_25</th>\n",
       "      <th>asset_1_log_returns_lag_26</th>\n",
       "      <th>asset_2_log_returns_lag_26</th>\n",
       "      <th>asset_1_log_returns_lag_27</th>\n",
       "      <th>asset_2_log_returns_lag_27</th>\n",
       "      <th>asset_1_log_returns_lag_28</th>\n",
       "      <th>asset_2_log_returns_lag_28</th>\n",
       "      <th>asset_1_log_returns_lag_29</th>\n",
       "      <th>asset_2_log_returns_lag_29</th>\n",
       "    </tr>\n",
       "  </thead>\n",
       "  <tbody>\n",
       "    <tr>\n",
       "      <th>2021-11-03</th>\n",
       "      <td>0.000159</td>\n",
       "      <td>0.001054</td>\n",
       "      <td>0.000268</td>\n",
       "      <td>-0.000450</td>\n",
       "      <td>-0.000351</td>\n",
       "      <td>-0.000411</td>\n",
       "      <td>0.000747</td>\n",
       "      <td>0.001071</td>\n",
       "      <td>-0.000195</td>\n",
       "      <td>0.002852</td>\n",
       "      <td>...</td>\n",
       "      <td>-0.000381</td>\n",
       "      <td>-0.000530</td>\n",
       "      <td>-0.000638</td>\n",
       "      <td>0.000962</td>\n",
       "      <td>0.000548</td>\n",
       "      <td>0.003846</td>\n",
       "      <td>0.000758</td>\n",
       "      <td>0.000590</td>\n",
       "      <td>0.000437</td>\n",
       "      <td>-0.000374</td>\n",
       "    </tr>\n",
       "    <tr>\n",
       "      <th>2021-11-04</th>\n",
       "      <td>0.000831</td>\n",
       "      <td>0.001120</td>\n",
       "      <td>0.000159</td>\n",
       "      <td>0.001054</td>\n",
       "      <td>0.000268</td>\n",
       "      <td>-0.000450</td>\n",
       "      <td>-0.000351</td>\n",
       "      <td>-0.000411</td>\n",
       "      <td>0.000747</td>\n",
       "      <td>0.001071</td>\n",
       "      <td>...</td>\n",
       "      <td>0.000635</td>\n",
       "      <td>0.001363</td>\n",
       "      <td>-0.000381</td>\n",
       "      <td>-0.000530</td>\n",
       "      <td>-0.000638</td>\n",
       "      <td>0.000962</td>\n",
       "      <td>0.000548</td>\n",
       "      <td>0.003846</td>\n",
       "      <td>0.000758</td>\n",
       "      <td>0.000590</td>\n",
       "    </tr>\n",
       "    <tr>\n",
       "      <th>2021-11-05</th>\n",
       "      <td>-0.000485</td>\n",
       "      <td>0.000384</td>\n",
       "      <td>0.000831</td>\n",
       "      <td>0.001120</td>\n",
       "      <td>0.000159</td>\n",
       "      <td>0.001054</td>\n",
       "      <td>0.000268</td>\n",
       "      <td>-0.000450</td>\n",
       "      <td>-0.000351</td>\n",
       "      <td>-0.000411</td>\n",
       "      <td>...</td>\n",
       "      <td>0.000702</td>\n",
       "      <td>-0.001325</td>\n",
       "      <td>0.000635</td>\n",
       "      <td>0.001363</td>\n",
       "      <td>-0.000381</td>\n",
       "      <td>-0.000530</td>\n",
       "      <td>-0.000638</td>\n",
       "      <td>0.000962</td>\n",
       "      <td>0.000548</td>\n",
       "      <td>0.003846</td>\n",
       "    </tr>\n",
       "    <tr>\n",
       "      <th>2021-11-06</th>\n",
       "      <td>0.000315</td>\n",
       "      <td>-0.000637</td>\n",
       "      <td>-0.000485</td>\n",
       "      <td>0.000384</td>\n",
       "      <td>0.000831</td>\n",
       "      <td>0.001120</td>\n",
       "      <td>0.000159</td>\n",
       "      <td>0.001054</td>\n",
       "      <td>0.000268</td>\n",
       "      <td>-0.000450</td>\n",
       "      <td>...</td>\n",
       "      <td>0.000125</td>\n",
       "      <td>0.001908</td>\n",
       "      <td>0.000702</td>\n",
       "      <td>-0.001325</td>\n",
       "      <td>0.000635</td>\n",
       "      <td>0.001363</td>\n",
       "      <td>-0.000381</td>\n",
       "      <td>-0.000530</td>\n",
       "      <td>-0.000638</td>\n",
       "      <td>0.000962</td>\n",
       "    </tr>\n",
       "    <tr>\n",
       "      <th>2021-11-07</th>\n",
       "      <td>-0.000572</td>\n",
       "      <td>0.000933</td>\n",
       "      <td>0.000315</td>\n",
       "      <td>-0.000637</td>\n",
       "      <td>-0.000485</td>\n",
       "      <td>0.000384</td>\n",
       "      <td>0.000831</td>\n",
       "      <td>0.001120</td>\n",
       "      <td>0.000159</td>\n",
       "      <td>0.001054</td>\n",
       "      <td>...</td>\n",
       "      <td>0.000253</td>\n",
       "      <td>-0.001218</td>\n",
       "      <td>0.000125</td>\n",
       "      <td>0.001908</td>\n",
       "      <td>0.000702</td>\n",
       "      <td>-0.001325</td>\n",
       "      <td>0.000635</td>\n",
       "      <td>0.001363</td>\n",
       "      <td>-0.000381</td>\n",
       "      <td>-0.000530</td>\n",
       "    </tr>\n",
       "    <tr>\n",
       "      <th>...</th>\n",
       "      <td>...</td>\n",
       "      <td>...</td>\n",
       "      <td>...</td>\n",
       "      <td>...</td>\n",
       "      <td>...</td>\n",
       "      <td>...</td>\n",
       "      <td>...</td>\n",
       "      <td>...</td>\n",
       "      <td>...</td>\n",
       "      <td>...</td>\n",
       "      <td>...</td>\n",
       "      <td>...</td>\n",
       "      <td>...</td>\n",
       "      <td>...</td>\n",
       "      <td>...</td>\n",
       "      <td>...</td>\n",
       "      <td>...</td>\n",
       "      <td>...</td>\n",
       "      <td>...</td>\n",
       "      <td>...</td>\n",
       "      <td>...</td>\n",
       "    </tr>\n",
       "    <tr>\n",
       "      <th>2026-03-15</th>\n",
       "      <td>0.001921</td>\n",
       "      <td>0.002401</td>\n",
       "      <td>0.000015</td>\n",
       "      <td>0.000226</td>\n",
       "      <td>0.000512</td>\n",
       "      <td>-0.000109</td>\n",
       "      <td>0.000070</td>\n",
       "      <td>0.001822</td>\n",
       "      <td>0.000345</td>\n",
       "      <td>0.002894</td>\n",
       "      <td>...</td>\n",
       "      <td>0.000073</td>\n",
       "      <td>0.003084</td>\n",
       "      <td>0.001041</td>\n",
       "      <td>-0.001744</td>\n",
       "      <td>-0.000100</td>\n",
       "      <td>0.000372</td>\n",
       "      <td>0.000046</td>\n",
       "      <td>-0.000355</td>\n",
       "      <td>-0.000794</td>\n",
       "      <td>0.001527</td>\n",
       "    </tr>\n",
       "    <tr>\n",
       "      <th>2026-03-16</th>\n",
       "      <td>0.000726</td>\n",
       "      <td>-0.000022</td>\n",
       "      <td>0.001921</td>\n",
       "      <td>0.002401</td>\n",
       "      <td>0.000015</td>\n",
       "      <td>0.000226</td>\n",
       "      <td>0.000512</td>\n",
       "      <td>-0.000109</td>\n",
       "      <td>0.000070</td>\n",
       "      <td>0.001822</td>\n",
       "      <td>...</td>\n",
       "      <td>0.000115</td>\n",
       "      <td>-0.001946</td>\n",
       "      <td>0.000073</td>\n",
       "      <td>0.003084</td>\n",
       "      <td>0.001041</td>\n",
       "      <td>-0.001744</td>\n",
       "      <td>-0.000100</td>\n",
       "      <td>0.000372</td>\n",
       "      <td>0.000046</td>\n",
       "      <td>-0.000355</td>\n",
       "    </tr>\n",
       "    <tr>\n",
       "      <th>2026-03-17</th>\n",
       "      <td>0.001212</td>\n",
       "      <td>0.001848</td>\n",
       "      <td>0.000726</td>\n",
       "      <td>-0.000022</td>\n",
       "      <td>0.001921</td>\n",
       "      <td>0.002401</td>\n",
       "      <td>0.000015</td>\n",
       "      <td>0.000226</td>\n",
       "      <td>0.000512</td>\n",
       "      <td>-0.000109</td>\n",
       "      <td>...</td>\n",
       "      <td>0.000784</td>\n",
       "      <td>0.005772</td>\n",
       "      <td>0.000115</td>\n",
       "      <td>-0.001946</td>\n",
       "      <td>0.000073</td>\n",
       "      <td>0.003084</td>\n",
       "      <td>0.001041</td>\n",
       "      <td>-0.001744</td>\n",
       "      <td>-0.000100</td>\n",
       "      <td>0.000372</td>\n",
       "    </tr>\n",
       "    <tr>\n",
       "      <th>2026-03-18</th>\n",
       "      <td>0.000468</td>\n",
       "      <td>0.002786</td>\n",
       "      <td>0.001212</td>\n",
       "      <td>0.001848</td>\n",
       "      <td>0.000726</td>\n",
       "      <td>-0.000022</td>\n",
       "      <td>0.001921</td>\n",
       "      <td>0.002401</td>\n",
       "      <td>0.000015</td>\n",
       "      <td>0.000226</td>\n",
       "      <td>...</td>\n",
       "      <td>0.000550</td>\n",
       "      <td>-0.002996</td>\n",
       "      <td>0.000784</td>\n",
       "      <td>0.005772</td>\n",
       "      <td>0.000115</td>\n",
       "      <td>-0.001946</td>\n",
       "      <td>0.000073</td>\n",
       "      <td>0.003084</td>\n",
       "      <td>0.001041</td>\n",
       "      <td>-0.001744</td>\n",
       "    </tr>\n",
       "    <tr>\n",
       "      <th>2026-03-19</th>\n",
       "      <td>-0.000246</td>\n",
       "      <td>0.002935</td>\n",
       "      <td>0.000468</td>\n",
       "      <td>0.002786</td>\n",
       "      <td>0.001212</td>\n",
       "      <td>0.001848</td>\n",
       "      <td>0.000726</td>\n",
       "      <td>-0.000022</td>\n",
       "      <td>0.001921</td>\n",
       "      <td>0.002401</td>\n",
       "      <td>...</td>\n",
       "      <td>0.001053</td>\n",
       "      <td>0.001511</td>\n",
       "      <td>0.000550</td>\n",
       "      <td>-0.002996</td>\n",
       "      <td>0.000784</td>\n",
       "      <td>0.005772</td>\n",
       "      <td>0.000115</td>\n",
       "      <td>-0.001946</td>\n",
       "      <td>0.000073</td>\n",
       "      <td>0.003084</td>\n",
       "    </tr>\n",
       "  </tbody>\n",
       "</table>\n",
       "<p>1598 rows × 62 columns</p>\n",
       "</div>"
      ],
      "text/plain": [
       "            asset_1_log_returns  asset_2_log_returns  \\\n",
       "2021-11-03             0.000159             0.001054   \n",
       "2021-11-04             0.000831             0.001120   \n",
       "2021-11-05            -0.000485             0.000384   \n",
       "2021-11-06             0.000315            -0.000637   \n",
       "2021-11-07            -0.000572             0.000933   \n",
       "...                         ...                  ...   \n",
       "2026-03-15             0.001921             0.002401   \n",
       "2026-03-16             0.000726            -0.000022   \n",
       "2026-03-17             0.001212             0.001848   \n",
       "2026-03-18             0.000468             0.002786   \n",
       "2026-03-19            -0.000246             0.002935   \n",
       "\n",
       "            asset_1_log_returns_lag_0  asset_2_log_returns_lag_0  \\\n",
       "2021-11-03                   0.000268                  -0.000450   \n",
       "2021-11-04                   0.000159                   0.001054   \n",
       "2021-11-05                   0.000831                   0.001120   \n",
       "2021-11-06                  -0.000485                   0.000384   \n",
       "2021-11-07                   0.000315                  -0.000637   \n",
       "...                               ...                        ...   \n",
       "2026-03-15                   0.000015                   0.000226   \n",
       "2026-03-16                   0.001921                   0.002401   \n",
       "2026-03-17                   0.000726                  -0.000022   \n",
       "2026-03-18                   0.001212                   0.001848   \n",
       "2026-03-19                   0.000468                   0.002786   \n",
       "\n",
       "            asset_1_log_returns_lag_1  asset_2_log_returns_lag_1  \\\n",
       "2021-11-03                  -0.000351                  -0.000411   \n",
       "2021-11-04                   0.000268                  -0.000450   \n",
       "2021-11-05                   0.000159                   0.001054   \n",
       "2021-11-06                   0.000831                   0.001120   \n",
       "2021-11-07                  -0.000485                   0.000384   \n",
       "...                               ...                        ...   \n",
       "2026-03-15                   0.000512                  -0.000109   \n",
       "2026-03-16                   0.000015                   0.000226   \n",
       "2026-03-17                   0.001921                   0.002401   \n",
       "2026-03-18                   0.000726                  -0.000022   \n",
       "2026-03-19                   0.001212                   0.001848   \n",
       "\n",
       "            asset_1_log_returns_lag_2  asset_2_log_returns_lag_2  \\\n",
       "2021-11-03                   0.000747                   0.001071   \n",
       "2021-11-04                  -0.000351                  -0.000411   \n",
       "2021-11-05                   0.000268                  -0.000450   \n",
       "2021-11-06                   0.000159                   0.001054   \n",
       "2021-11-07                   0.000831                   0.001120   \n",
       "...                               ...                        ...   \n",
       "2026-03-15                   0.000070                   0.001822   \n",
       "2026-03-16                   0.000512                  -0.000109   \n",
       "2026-03-17                   0.000015                   0.000226   \n",
       "2026-03-18                   0.001921                   0.002401   \n",
       "2026-03-19                   0.000726                  -0.000022   \n",
       "\n",
       "            asset_1_log_returns_lag_3  asset_2_log_returns_lag_3  ...  \\\n",
       "2021-11-03                  -0.000195                   0.002852  ...   \n",
       "2021-11-04                   0.000747                   0.001071  ...   \n",
       "2021-11-05                  -0.000351                  -0.000411  ...   \n",
       "2021-11-06                   0.000268                  -0.000450  ...   \n",
       "2021-11-07                   0.000159                   0.001054  ...   \n",
       "...                               ...                        ...  ...   \n",
       "2026-03-15                   0.000345                   0.002894  ...   \n",
       "2026-03-16                   0.000070                   0.001822  ...   \n",
       "2026-03-17                   0.000512                  -0.000109  ...   \n",
       "2026-03-18                   0.000015                   0.000226  ...   \n",
       "2026-03-19                   0.001921                   0.002401  ...   \n",
       "\n",
       "            asset_1_log_returns_lag_25  asset_2_log_returns_lag_25  \\\n",
       "2021-11-03                   -0.000381                   -0.000530   \n",
       "2021-11-04                    0.000635                    0.001363   \n",
       "2021-11-05                    0.000702                   -0.001325   \n",
       "2021-11-06                    0.000125                    0.001908   \n",
       "2021-11-07                    0.000253                   -0.001218   \n",
       "...                                ...                         ...   \n",
       "2026-03-15                    0.000073                    0.003084   \n",
       "2026-03-16                    0.000115                   -0.001946   \n",
       "2026-03-17                    0.000784                    0.005772   \n",
       "2026-03-18                    0.000550                   -0.002996   \n",
       "2026-03-19                    0.001053                    0.001511   \n",
       "\n",
       "            asset_1_log_returns_lag_26  asset_2_log_returns_lag_26  \\\n",
       "2021-11-03                   -0.000638                    0.000962   \n",
       "2021-11-04                   -0.000381                   -0.000530   \n",
       "2021-11-05                    0.000635                    0.001363   \n",
       "2021-11-06                    0.000702                   -0.001325   \n",
       "2021-11-07                    0.000125                    0.001908   \n",
       "...                                ...                         ...   \n",
       "2026-03-15                    0.001041                   -0.001744   \n",
       "2026-03-16                    0.000073                    0.003084   \n",
       "2026-03-17                    0.000115                   -0.001946   \n",
       "2026-03-18                    0.000784                    0.005772   \n",
       "2026-03-19                    0.000550                   -0.002996   \n",
       "\n",
       "            asset_1_log_returns_lag_27  asset_2_log_returns_lag_27  \\\n",
       "2021-11-03                    0.000548                    0.003846   \n",
       "2021-11-04                   -0.000638                    0.000962   \n",
       "2021-11-05                   -0.000381                   -0.000530   \n",
       "2021-11-06                    0.000635                    0.001363   \n",
       "2021-11-07                    0.000702                   -0.001325   \n",
       "...                                ...                         ...   \n",
       "2026-03-15                   -0.000100                    0.000372   \n",
       "2026-03-16                    0.001041                   -0.001744   \n",
       "2026-03-17                    0.000073                    0.003084   \n",
       "2026-03-18                    0.000115                   -0.001946   \n",
       "2026-03-19                    0.000784                    0.005772   \n",
       "\n",
       "            asset_1_log_returns_lag_28  asset_2_log_returns_lag_28  \\\n",
       "2021-11-03                    0.000758                    0.000590   \n",
       "2021-11-04                    0.000548                    0.003846   \n",
       "2021-11-05                   -0.000638                    0.000962   \n",
       "2021-11-06                   -0.000381                   -0.000530   \n",
       "2021-11-07                    0.000635                    0.001363   \n",
       "...                                ...                         ...   \n",
       "2026-03-15                    0.000046                   -0.000355   \n",
       "2026-03-16                   -0.000100                    0.000372   \n",
       "2026-03-17                    0.001041                   -0.001744   \n",
       "2026-03-18                    0.000073                    0.003084   \n",
       "2026-03-19                    0.000115                   -0.001946   \n",
       "\n",
       "            asset_1_log_returns_lag_29  asset_2_log_returns_lag_29  \n",
       "2021-11-03                    0.000437                   -0.000374  \n",
       "2021-11-04                    0.000758                    0.000590  \n",
       "2021-11-05                    0.000548                    0.003846  \n",
       "2021-11-06                   -0.000638                    0.000962  \n",
       "2021-11-07                   -0.000381                   -0.000530  \n",
       "...                                ...                         ...  \n",
       "2026-03-15                   -0.000794                    0.001527  \n",
       "2026-03-16                    0.000046                   -0.000355  \n",
       "2026-03-17                   -0.000100                    0.000372  \n",
       "2026-03-18                    0.001041                   -0.001744  \n",
       "2026-03-19                    0.000073                    0.003084  \n",
       "\n",
       "[1598 rows x 62 columns]"
      ]
     },
     "execution_count": 11,
     "metadata": {},
     "output_type": "execute_result"
    }
   ],
   "source": []
  },
  {
   "cell_type": "code",
   "execution_count": 2,
   "metadata": {},
   "outputs": [],
   "source": [
    "returns=pd.read_parquet(\"temp_persisted_data/only_features_simulation_gbm\")"
   ]
  },
  {
   "cell_type": "code",
   "execution_count": 13,
   "metadata": {},
   "outputs": [],
   "source": [
    "asset_1_returns=returns[[i for i in returns if \"asset_1\" in i]]\n",
    "asset_2_returns=returns[[i for i in returns if \"asset_2\" in i]]"
   ]
  },
  {
   "cell_type": "code",
   "execution_count": 23,
   "metadata": {},
   "outputs": [
    {
     "data": {
      "text/plain": [
       "(array([ 27.,  42., 109., 227., 301., 344., 330., 154.,  38.,  26.]),\n",
       " array([-0.52630394, -0.42083142, -0.31535891, -0.20988639, -0.10441388,\n",
       "         0.00105864,  0.10653115,  0.21200367,  0.31747618,  0.4229487 ,\n",
       "         0.52842121]),\n",
       " <a list of 10 Patch objects>)"
      ]
     },
     "execution_count": 23,
     "metadata": {},
     "output_type": "execute_result"
    },
    {
     "data": {
      "image/png": "[encoded data removed]",
      "text/plain": [
       "<Figure size 432x288 with 1 Axes>"
      ]
     },
     "metadata": {
      "needs_background": "light"
     },
     "output_type": "display_data"
    }
   ],
   "source": [
    "correls=[]\n",
    "for i in range(asset_1_returns.shape[0]):\n",
    "    correls.append(np.corrcoef(asset_1_returns.iloc[i].values,asset_2_returns.iloc[i].values)[0,1])\n",
    "\n",
    "plt.hist(correls)"
   ]
  },
  {
   "cell_type": "code",
   "execution_count": 3,
   "metadata": {},
   "outputs": [],
   "source": [
    "asset_2_returns=returns[[i for i in returns if \"asset_1\" in i]]"
   ]
  },
  {
   "cell_type": "code",
   "execution_count": 4,
   "metadata": {},
   "outputs": [],
   "source": [
    "a2=asset_2_returns.T.reset_index()"
   ]
  },
  {
   "cell_type": "code",
   "execution_count": 5,
   "metadata": {},
   "outputs": [],
   "source": [
    "a2.index=[i for i in reversed(range(a2.shape[0]))]"
   ]
  },
  {
   "cell_type": "code",
   "execution_count": 6,
   "metadata": {},
   "outputs": [],
   "source": [
    "a2=a2.sort_index().drop(columns=\"index\")"
   ]
  },
  {
   "cell_type": "code",
   "execution_count": 7,
   "metadata": {},
   "outputs": [
    {
     "data": {
      "text/plain": [
       "(array([ 18.,  43., 107., 192., 324., 419., 260., 151.,  64.,  20.]),\n",
       " array([-8.25820659, -5.07689076, -1.89557493,  1.2857409 ,  4.46705672,\n",
       "         7.64837255, 10.82968838, 14.01100421, 17.19232004, 20.37363587,\n",
       "        23.5549517 ]),\n",
       " <a list of 10 Patch objects>)"
      ]
     },
     "execution_count": 7,
     "metadata": {},
     "output_type": "execute_result"
    },
    {
     "data": {
      "image/png": "[encoded data removed]",
      "text/plain": [
       "<Figure size 432x288 with 1 Axes>"
      ]
     },
     "metadata": {
      "needs_background": "light"
     },
     "output_type": "display_data"
    }
   ],
   "source": [
    "plt.hist((np.exp(a2.sum())-1)/a2.std())"
   ]
  },
  {
   "cell_type": "code",
   "execution_count": 8,
   "metadata": {},
   "outputs": [
    {
     "data": {
      "text/plain": [
       "(array([ 20.,  45., 119., 213., 332., 407., 277., 125.,  46.,  14.]),\n",
       " array([-0.0410749 , -0.02469349, -0.00831209,  0.00806932,  0.02445073,\n",
       "         0.04083213,  0.05721354,  0.07359495,  0.08997635,  0.10635776,\n",
       "         0.12273916]),\n",
       " <a list of 10 Patch objects>)"
      ]
     },
     "execution_count": 8,
     "metadata": {},
     "output_type": "execute_result"
    },
    {
     "data": {
      "image/png": "[encoded data removed]",
      "text/plain": [
       "<Figure size 432x288 with 1 Axes>"
      ]
     },
     "metadata": {
      "needs_background": "light"
     },
     "output_type": "display_data"
    }
   ],
   "source": [
    "plt.hist(a2.mean()*252)"
   ]
  },
  {
   "cell_type": "code",
   "execution_count": 9,
   "metadata": {},
   "outputs": [
    {
     "data": {
      "text/plain": [
       "(array([ 30., 125., 242., 400., 481., 147.,  95.,  50.,  14.,  14.]),\n",
       " array([0.00724972, 0.00790517, 0.00856061, 0.00921605, 0.0098715 ,\n",
       "        0.01052694, 0.01118239, 0.01183783, 0.01249328, 0.01314872,\n",
       "        0.01380417]),\n",
       " <a list of 10 Patch objects>)"
      ]
     },
     "execution_count": 9,
     "metadata": {},
     "output_type": "execute_result"
    },
    {
     "data": {
      "image/png": "[encoded data removed]",
      "text/plain": [
       "<Figure size 432x288 with 1 Axes>"
      ]
     },
     "metadata": {
      "needs_background": "light"
     },
     "output_type": "display_data"
    }
   ],
   "source": [
    "plt.hist(a2.std()*np.sqrt(252))"
   ]
  },
  {
   "cell_type": "code",
   "execution_count": 10,
   "metadata": {},
   "outputs": [
    {
     "data": {
      "text/plain": [
       "(array([ 17.,  41., 109., 190., 320., 419., 261., 156.,  64.,  21.]),\n",
       " array([-4.23956281, -2.61848568, -0.99740856,  0.62366856,  2.24474569,\n",
       "         3.86582281,  5.48689993,  7.10797706,  8.72905418, 10.3501313 ,\n",
       "        11.97120843]),\n",
       " <a list of 10 Patch objects>)"
      ]
     },
     "execution_count": 10,
     "metadata": {},
     "output_type": "execute_result"
    },
    {
     "data": {
      "image/png": "[encoded data removed]",
      "text/plain": [
       "<Figure size 432x288 with 1 Axes>"
      ]
     },
     "metadata": {
      "needs_background": "light"
     },
     "output_type": "display_data"
    }
   ],
   "source": [
    "plt.hist(a2.mean()*252/(a2.std()*np.sqrt(252)))"
   ]
  },
  {
   "cell_type": "code",
   "execution_count": 24,
   "metadata": {},
   "outputs": [],
   "source": [
    "assets_simulation_details={\"asset_1\":{\"method\":\"GBM\",\"sigma\":.01,\"mean\":.02},\n",
    "                    \"asset_2\":{\"method\":\"GBM\",\"sigma\":.03,\"mean\":.18}}\n",
    "\n",
    "cov=np.array([[assets_simulation_details[\"asset_1\"][\"sigma\"],0],[0,assets_simulation_details[\"asset_2\"][\"sigma\"]]])\n",
    "mus=np.array([assets_simulation_details[\"asset_1\"][\"mean\"],assets_simulation_details[\"asset_2\"][\"mean\"]])"
   ]
  },
  {
   "cell_type": "code",
   "execution_count": 50,
   "metadata": {},
   "outputs": [
    {
     "data": {
      "text/plain": [
       "0.5964809080634605"
      ]
     },
     "execution_count": 50,
     "metadata": {},
     "output_type": "execute_result"
    }
   ],
   "source": [
    "ws=np.array([.8,.2])\n",
    "\n",
    "np.matmul(ws.T,mus)/(np.matmul(np.matmul(ws.T,cov),ws)**(1/2))"
   ]
  },
  {
   "cell_type": "code",
   "execution_count": 42,
   "metadata": {},
   "outputs": [
    {
     "data": {
      "text/plain": [
       "0.002"
      ]
     },
     "execution_count": 42,
     "metadata": {},
     "output_type": "execute_result"
    }
   ],
   "source": [
    "np.matmul(ws.T,mus)"
   ]
  },
  {
   "cell_type": "code",
   "execution_count": 51,
   "metadata": {},
   "outputs": [
    {
     "data": {
      "text/plain": [
       "0.007600000000000001"
      ]
     },
     "execution_count": 51,
     "metadata": {},
     "output_type": "execute_result"
    }
   ],
   "source": [
    "np.matmul(np.matmul(ws.T,cov),ws)"
   ]
  }
 ],
 "metadata": {
  "kernelspec": {
   "display_name": "p37_deep_trading",
   "language": "python",
   "name": "p37_deep_trading"
  },
  "language_info": {
   "codemirror_mode": {
    "name": "ipython",
    "version": 3
   },
   "file_extension": ".py",
   "mimetype": "text/x-python",
   "name": "python",
   "nbconvert_exporter": "python",
   "pygments_lexer": "ipython3",
   "version": "3.7.5"
  },
  "varInspector": {
   "cols": {
    "lenName": 16,
    "lenType": 16,
    "lenVar": 40
   },
   "kernels_config": {
    "python": {
     "delete_cmd_postfix": "",
     "delete_cmd_prefix": "del ",
     "library": "var_list.py",
     "varRefreshCmd": "print(var_dic_list())"
    },
    "r": {
     "delete_cmd_postfix": ") ",
     "delete_cmd_prefix": "rm(",
     "library": "var_list.r",
     "varRefreshCmd": "cat(var_dic_list()) "
    }
   },
   "types_to_exclude": [
    "module",
    "function",
    "builtin_function_or_method",
    "instance",
    "_Feature"
   ],
   "window_display": false
  }
 },
 "nbformat": 4,
 "nbformat_minor": 4
}
