{
 "cells": [
  {
   "cell_type": "markdown",
   "metadata": {},
   "source": [
    "# Real-World Data Demonstration\n",
    "\n",
    "### Team Epsilon-Greedy Quants\n",
    "#### Michael Lee, Nikat Patel, Jose Antonio Alatorre Sanchez"
   ]
  },
  {
   "cell_type": "markdown",
   "metadata": {},
   "source": [
    "This notebook demonstrates what a user sees when the user runs the User Guide for Real-World Data Notebook"
   ]
  },
  {
   "cell_type": "code",
   "execution_count": 1,
   "metadata": {},
   "outputs": [],
   "source": [
    "from environments.e_greedy import DeepTradingEnvironment, LinearAgent\n",
    "\n",
    "import datetime\n",
    "import numpy as np\n",
    "import pandas as pd\n",
    "import os\n",
    "from pypfopt.efficient_frontier import EfficientFrontier\n",
    "from pypfopt.plotting import plot_efficient_frontier\n",
    "from pypfopt.cla import CLA\n",
    "import matplotlib.pyplot as plt\n",
    "from matplotlib import cm\n",
    "import copy\n",
    "import quantstats as qs\n",
    "qs.extend_pandas()"
   ]
  },
  {
   "cell_type": "code",
   "execution_count": 2,
   "metadata": {},
   "outputs": [],
   "source": [
    "root = os.getcwd()\n",
    "data_env = root+\"/data_env/\""
   ]
  },
  {
   "cell_type": "markdown",
   "metadata": {},
   "source": [
    "# Utility Functions"
   ]
  },
  {
   "cell_type": "code",
   "execution_count": 3,
   "metadata": {},
   "outputs": [],
   "source": [
    "def _retrieve_asset_dict():\n",
    "    # obtain close prices from parquet files of ETF price history\n",
    "    root = os.getcwd()\n",
    "    data_env = root+\"/data_env/\"\n",
    "    files = [_ for _ in os.listdir(data_env) if \"parquet\" in _]\n",
    "    assets_dict = {file: pd.read_parquet(data_env + \"/\" + file) for file in files}\n",
    "    counter=0\n",
    "    for key, value in assets_dict.items():\n",
    "        if counter==0:\n",
    "            main_index=value.index\n",
    "    else:\n",
    "        main_index=main_index.join(value.index,how=\"inner\")\n",
    "        \n",
    "    for key, value in assets_dict.items():\n",
    "        tmp_df=value.reindex(main_index)\n",
    "        tmp_df=tmp_df.fillna(method='ffill')\n",
    "        assets_dict[key]=tmp_df['close']\n",
    "    return assets_dict\n",
    "\n",
    "def build_portfolio_df(asset_dict):\n",
    "    portfolio_df = pd.DataFrame()\n",
    "    \n",
    "    for key, value in assets_dict.items():\n",
    "        key = key.split(\".\")[0]\n",
    "        tmp_df = pd.DataFrame(data=value)\n",
    "        tmp_df.columns=[key]\n",
    "        portfolio_df = pd.concat([portfolio_df, tmp_df], axis=1)\n",
    "        \n",
    "    portfolio_df.index = pd.to_datetime(portfolio_df.index, errors='coerce')\n",
    "    return portfolio_df"
   ]
  },
  {
   "cell_type": "code",
   "execution_count": 4,
   "metadata": {},
   "outputs": [],
   "source": [
    "def plot_backtest(linear_agent_train, env_test, test_input, model_run, model):\n",
    "    ## Create plot of backtest returns\n",
    "    if not \"backtest\" in locals():\n",
    "        backtest=None\n",
    "    backtest, tmp_weights =linear_agent_train.backtest_policy(epoch=1,backtest=backtest, env_test=env_test, test_input=test_input)\n",
    "    plt.figure(figsize=(8,4))\n",
    "    plt.plot(backtest,color=\"blue\")\n",
    "    plt.gcf().autofmt_xdate()\n",
    "    plt.xticks(fontsize=10)\n",
    "    plt.yticks(fontsize=10)\n",
    "    plt.xlabel(\"Date\", fontsize = 10)\n",
    "    plt.ylabel(\"Backtest\", fontsize = 10)\n",
    "    plt.title(\"Backtest on Test Data: \"+ model,fontsize = 16)\n",
    "    plt.savefig(root+'/temp_persisted_data/test_backtest_plot_'+model_run+model+'.png')\n",
    "    tmp_weights.to_csv(root+'/temp_persisted_data/test_backtest_weights_'+model_run+model+'.csv')\n",
    "    plt.show()\n",
    "    return backtest"
   ]
  },
  {
   "cell_type": "markdown",
   "metadata": {},
   "source": [
    "# Reviewing Real-World Data"
   ]
  },
  {
   "cell_type": "code",
   "execution_count": 5,
   "metadata": {},
   "outputs": [
    {
     "data": {
      "text/html": [
       "<div>\n",
       "<style scoped>\n",
       "    .dataframe tbody tr th:only-of-type {\n",
       "        vertical-align: middle;\n",
       "    }\n",
       "\n",
       "    .dataframe tbody tr th {\n",
       "        vertical-align: top;\n",
       "    }\n",
       "\n",
       "    .dataframe thead th {\n",
       "        text-align: right;\n",
       "    }\n",
       "</style>\n",
       "<table border=\"1\" class=\"dataframe\">\n",
       "  <thead>\n",
       "    <tr style=\"text-align: right;\">\n",
       "      <th></th>\n",
       "      <th>open</th>\n",
       "      <th>high</th>\n",
       "      <th>low</th>\n",
       "      <th>close</th>\n",
       "      <th>volume</th>\n",
       "    </tr>\n",
       "    <tr>\n",
       "      <th>index</th>\n",
       "      <th></th>\n",
       "      <th></th>\n",
       "      <th></th>\n",
       "      <th></th>\n",
       "      <th></th>\n",
       "    </tr>\n",
       "  </thead>\n",
       "  <tbody>\n",
       "    <tr>\n",
       "      <th>2017-01-03 05:00:00+00:00</th>\n",
       "      <td>72.59413</td>\n",
       "      <td>72.90881</td>\n",
       "      <td>72.21272</td>\n",
       "      <td>72.54646</td>\n",
       "      <td>297832</td>\n",
       "    </tr>\n",
       "    <tr>\n",
       "      <th>2017-01-04 05:00:00+00:00</th>\n",
       "      <td>72.69902</td>\n",
       "      <td>73.09952</td>\n",
       "      <td>72.69902</td>\n",
       "      <td>72.97556</td>\n",
       "      <td>225891</td>\n",
       "    </tr>\n",
       "    <tr>\n",
       "      <th>2017-01-05 05:00:00+00:00</th>\n",
       "      <td>72.98509</td>\n",
       "      <td>73.25208</td>\n",
       "      <td>72.84206</td>\n",
       "      <td>73.21394</td>\n",
       "      <td>412561</td>\n",
       "    </tr>\n",
       "    <tr>\n",
       "      <th>2017-01-06 05:00:00+00:00</th>\n",
       "      <td>73.20441</td>\n",
       "      <td>73.77654</td>\n",
       "      <td>73.04230</td>\n",
       "      <td>73.63351</td>\n",
       "      <td>260918</td>\n",
       "    </tr>\n",
       "    <tr>\n",
       "      <th>2017-01-09 05:00:00+00:00</th>\n",
       "      <td>73.66212</td>\n",
       "      <td>73.76701</td>\n",
       "      <td>73.50001</td>\n",
       "      <td>73.60490</td>\n",
       "      <td>165800</td>\n",
       "    </tr>\n",
       "  </tbody>\n",
       "</table>\n",
       "</div>"
      ],
      "text/plain": [
       "                               open      high       low     close  volume\n",
       "index                                                                    \n",
       "2017-01-03 05:00:00+00:00  72.59413  72.90881  72.21272  72.54646  297832\n",
       "2017-01-04 05:00:00+00:00  72.69902  73.09952  72.69902  72.97556  225891\n",
       "2017-01-05 05:00:00+00:00  72.98509  73.25208  72.84206  73.21394  412561\n",
       "2017-01-06 05:00:00+00:00  73.20441  73.77654  73.04230  73.63351  260918\n",
       "2017-01-09 05:00:00+00:00  73.66212  73.76701  73.50001  73.60490  165800"
      ]
     },
     "execution_count": 5,
     "metadata": {},
     "output_type": "execute_result"
    }
   ],
   "source": [
    "# read a sample ETF\n",
    "\n",
    "data_env_two_asset = root+ \"/data_env/\"\n",
    "\n",
    "pd.read_parquet(data_env_two_asset+'MTUM.parquet').head()\n",
    "\n"
   ]
  },
  {
   "cell_type": "code",
   "execution_count": 6,
   "metadata": {},
   "outputs": [],
   "source": [
    "# create a portfolio\n",
    "assets_dict = _retrieve_asset_dict()\n",
    "portfolio_df = build_portfolio_df(assets_dict)"
   ]
  },
  {
   "cell_type": "code",
   "execution_count": 7,
   "metadata": {},
   "outputs": [
    {
     "data": {
      "text/html": [
       "<div>\n",
       "<style scoped>\n",
       "    .dataframe tbody tr th:only-of-type {\n",
       "        vertical-align: middle;\n",
       "    }\n",
       "\n",
       "    .dataframe tbody tr th {\n",
       "        vertical-align: top;\n",
       "    }\n",
       "\n",
       "    .dataframe thead th {\n",
       "        text-align: right;\n",
       "    }\n",
       "</style>\n",
       "<table border=\"1\" class=\"dataframe\">\n",
       "  <thead>\n",
       "    <tr style=\"text-align: right;\">\n",
       "      <th></th>\n",
       "      <th>EEMV</th>\n",
       "      <th>EFAV</th>\n",
       "      <th>MTUM</th>\n",
       "      <th>QUAL</th>\n",
       "      <th>SIZE</th>\n",
       "      <th>USMV</th>\n",
       "      <th>VLUE</th>\n",
       "    </tr>\n",
       "    <tr>\n",
       "      <th>index</th>\n",
       "      <th></th>\n",
       "      <th></th>\n",
       "      <th></th>\n",
       "      <th></th>\n",
       "      <th></th>\n",
       "      <th></th>\n",
       "      <th></th>\n",
       "    </tr>\n",
       "  </thead>\n",
       "  <tbody>\n",
       "    <tr>\n",
       "      <th>2018-01-24 05:00:00+00:00</th>\n",
       "      <td>61.12980</td>\n",
       "      <td>69.58079</td>\n",
       "      <td>107.7541</td>\n",
       "      <td>83.47868</td>\n",
       "      <td>83.06821</td>\n",
       "      <td>51.58798</td>\n",
       "      <td>82.14153</td>\n",
       "    </tr>\n",
       "    <tr>\n",
       "      <th>2018-01-25 05:00:00+00:00</th>\n",
       "      <td>61.04514</td>\n",
       "      <td>69.44351</td>\n",
       "      <td>107.9952</td>\n",
       "      <td>83.49772</td>\n",
       "      <td>83.17646</td>\n",
       "      <td>51.84317</td>\n",
       "      <td>81.73357</td>\n",
       "    </tr>\n",
       "    <tr>\n",
       "      <th>2018-01-26 05:00:00+00:00</th>\n",
       "      <td>61.58129</td>\n",
       "      <td>69.98347</td>\n",
       "      <td>109.5190</td>\n",
       "      <td>84.36412</td>\n",
       "      <td>83.73291</td>\n",
       "      <td>52.27796</td>\n",
       "      <td>82.88330</td>\n",
       "    </tr>\n",
       "    <tr>\n",
       "      <th>2018-01-29 05:00:00+00:00</th>\n",
       "      <td>60.93227</td>\n",
       "      <td>69.34284</td>\n",
       "      <td>108.6896</td>\n",
       "      <td>83.62149</td>\n",
       "      <td>83.54300</td>\n",
       "      <td>51.88098</td>\n",
       "      <td>82.45679</td>\n",
       "    </tr>\n",
       "    <tr>\n",
       "      <th>2018-01-30 05:00:00+00:00</th>\n",
       "      <td>60.17979</td>\n",
       "      <td>68.96762</td>\n",
       "      <td>107.0211</td>\n",
       "      <td>82.72653</td>\n",
       "      <td>82.57443</td>\n",
       "      <td>51.57853</td>\n",
       "      <td>81.20506</td>\n",
       "    </tr>\n",
       "  </tbody>\n",
       "</table>\n",
       "</div>"
      ],
      "text/plain": [
       "                               EEMV      EFAV      MTUM      QUAL      SIZE  \\\n",
       "index                                                                         \n",
       "2018-01-24 05:00:00+00:00  61.12980  69.58079  107.7541  83.47868  83.06821   \n",
       "2018-01-25 05:00:00+00:00  61.04514  69.44351  107.9952  83.49772  83.17646   \n",
       "2018-01-26 05:00:00+00:00  61.58129  69.98347  109.5190  84.36412  83.73291   \n",
       "2018-01-29 05:00:00+00:00  60.93227  69.34284  108.6896  83.62149  83.54300   \n",
       "2018-01-30 05:00:00+00:00  60.17979  68.96762  107.0211  82.72653  82.57443   \n",
       "\n",
       "                               USMV      VLUE  \n",
       "index                                          \n",
       "2018-01-24 05:00:00+00:00  51.58798  82.14153  \n",
       "2018-01-25 05:00:00+00:00  51.84317  81.73357  \n",
       "2018-01-26 05:00:00+00:00  52.27796  82.88330  \n",
       "2018-01-29 05:00:00+00:00  51.88098  82.45679  \n",
       "2018-01-30 05:00:00+00:00  51.57853  81.20506  "
      ]
     },
     "execution_count": 7,
     "metadata": {},
     "output_type": "execute_result"
    }
   ],
   "source": [
    "# create a train dataset and de-mean the time series\n",
    "\n",
    "portfolio_df_train = portfolio_df[portfolio_df.index <= '2020-04-01']\n",
    "portfolio_df_train = portfolio_df_train[portfolio_df_train.index >= '2018-01-24']\n",
    "portfolio_df_train.sub(portfolio_df_train.mean())\n",
    "\n",
    "portfolio_df_train.head()"
   ]
  },
  {
   "cell_type": "code",
   "execution_count": 8,
   "metadata": {},
   "outputs": [
    {
     "data": {
      "text/html": [
       "<div>\n",
       "<style scoped>\n",
       "    .dataframe tbody tr th:only-of-type {\n",
       "        vertical-align: middle;\n",
       "    }\n",
       "\n",
       "    .dataframe tbody tr th {\n",
       "        vertical-align: top;\n",
       "    }\n",
       "\n",
       "    .dataframe thead th {\n",
       "        text-align: right;\n",
       "    }\n",
       "</style>\n",
       "<table border=\"1\" class=\"dataframe\">\n",
       "  <thead>\n",
       "    <tr style=\"text-align: right;\">\n",
       "      <th></th>\n",
       "      <th>EEMV</th>\n",
       "      <th>EFAV</th>\n",
       "      <th>MTUM</th>\n",
       "      <th>QUAL</th>\n",
       "      <th>SIZE</th>\n",
       "      <th>USMV</th>\n",
       "      <th>VLUE</th>\n",
       "    </tr>\n",
       "    <tr>\n",
       "      <th>index</th>\n",
       "      <th></th>\n",
       "      <th></th>\n",
       "      <th></th>\n",
       "      <th></th>\n",
       "      <th></th>\n",
       "      <th></th>\n",
       "      <th></th>\n",
       "    </tr>\n",
       "  </thead>\n",
       "  <tbody>\n",
       "    <tr>\n",
       "      <th>2020-04-16 04:00:00+00:00</th>\n",
       "      <td>48.20911</td>\n",
       "      <td>62.50506</td>\n",
       "      <td>116.0638</td>\n",
       "      <td>86.18110</td>\n",
       "      <td>75.67554</td>\n",
       "      <td>57.85078</td>\n",
       "      <td>65.36022</td>\n",
       "    </tr>\n",
       "    <tr>\n",
       "      <th>2020-04-17 04:00:00+00:00</th>\n",
       "      <td>48.88692</td>\n",
       "      <td>63.45106</td>\n",
       "      <td>117.9653</td>\n",
       "      <td>88.67091</td>\n",
       "      <td>78.40196</td>\n",
       "      <td>59.53394</td>\n",
       "      <td>67.65253</td>\n",
       "    </tr>\n",
       "    <tr>\n",
       "      <th>2020-04-20 04:00:00+00:00</th>\n",
       "      <td>48.48617</td>\n",
       "      <td>62.79575</td>\n",
       "      <td>116.7009</td>\n",
       "      <td>87.05402</td>\n",
       "      <td>77.06354</td>\n",
       "      <td>58.23692</td>\n",
       "      <td>66.08150</td>\n",
       "    </tr>\n",
       "    <tr>\n",
       "      <th>2020-04-21 04:00:00+00:00</th>\n",
       "      <td>47.54613</td>\n",
       "      <td>61.94337</td>\n",
       "      <td>112.3304</td>\n",
       "      <td>84.47494</td>\n",
       "      <td>74.79317</td>\n",
       "      <td>56.78149</td>\n",
       "      <td>63.82873</td>\n",
       "    </tr>\n",
       "    <tr>\n",
       "      <th>2020-04-22 04:00:00+00:00</th>\n",
       "      <td>48.56533</td>\n",
       "      <td>62.75141</td>\n",
       "      <td>115.3270</td>\n",
       "      <td>86.41917</td>\n",
       "      <td>76.31997</td>\n",
       "      <td>57.81118</td>\n",
       "      <td>65.00452</td>\n",
       "    </tr>\n",
       "  </tbody>\n",
       "</table>\n",
       "</div>"
      ],
      "text/plain": [
       "                               EEMV      EFAV      MTUM      QUAL      SIZE  \\\n",
       "index                                                                         \n",
       "2020-04-16 04:00:00+00:00  48.20911  62.50506  116.0638  86.18110  75.67554   \n",
       "2020-04-17 04:00:00+00:00  48.88692  63.45106  117.9653  88.67091  78.40196   \n",
       "2020-04-20 04:00:00+00:00  48.48617  62.79575  116.7009  87.05402  77.06354   \n",
       "2020-04-21 04:00:00+00:00  47.54613  61.94337  112.3304  84.47494  74.79317   \n",
       "2020-04-22 04:00:00+00:00  48.56533  62.75141  115.3270  86.41917  76.31997   \n",
       "\n",
       "                               USMV      VLUE  \n",
       "index                                          \n",
       "2020-04-16 04:00:00+00:00  57.85078  65.36022  \n",
       "2020-04-17 04:00:00+00:00  59.53394  67.65253  \n",
       "2020-04-20 04:00:00+00:00  58.23692  66.08150  \n",
       "2020-04-21 04:00:00+00:00  56.78149  63.82873  \n",
       "2020-04-22 04:00:00+00:00  57.81118  65.00452  "
      ]
     },
     "execution_count": 8,
     "metadata": {},
     "output_type": "execute_result"
    }
   ],
   "source": [
    "# create a test dataset consisting of 6 months of data and de-mean the time series\n",
    "\n",
    "portfolio_df_test = portfolio_df[portfolio_df.index >= '2020-04-16']\n",
    "portfolio_df_test = portfolio_df_test[portfolio_df_test.index <= '2020-11-16']\n",
    "portfolio_df_test.sub(portfolio_df_test.mean())\n",
    "\n",
    "portfolio_df_test.head()"
   ]
  },
  {
   "cell_type": "code",
   "execution_count": 9,
   "metadata": {},
   "outputs": [],
   "source": [
    "test_input_returns = portfolio_df_test.to_returns().dropna()\n",
    "test_input_returns = test_input_returns.loc[(test_input_returns != 0).any(1)]\n"
   ]
  },
  {
   "cell_type": "code",
   "execution_count": null,
   "metadata": {},
   "outputs": [],
   "source": []
  },
  {
   "cell_type": "markdown",
   "metadata": {},
   "source": [
    "# Set Up Environment"
   ]
  },
  {
   "cell_type": "code",
   "execution_count": null,
   "metadata": {},
   "outputs": [
    {
     "name": "stdout",
     "output_type": "stream",
     "text": [
      "===Meta Parameters===\n",
      "{'in_bars_count': 14, 'out_reward_window': datetime.timedelta(days=7), 'state_type': 'in_window_out_window', 'risk_aversion': 10, 'include_previous_weights': False}\n",
      "===Objective Parameters===\n",
      "{'percent_commission': 0.001}\n"
     ]
    }
   ],
   "source": [
    "# parameters related to the transformation of data, this parameters govern an step before the algorithm\n",
    "out_reward_window=datetime.timedelta(days=7)\n",
    "\n",
    "meta_parameters = {\"in_bars_count\": 14,\n",
    "                   \"out_reward_window\":out_reward_window ,\n",
    "                   \"state_type\":\"in_window_out_window\",\n",
    "                   \"risk_aversion\":15,\n",
    "                   \"include_previous_weights\":False}\n",
    "\n",
    "# parameters that are related to the objective/reward function construction\n",
    "objective_parameters = {\"percent_commission\": .001}\n",
    "\n",
    "print(\"===Meta Parameters===\")\n",
    "print(meta_parameters)\n",
    "print(\"===Objective Parameters===\")\n",
    "print(objective_parameters)\n",
    "\n",
    "detrend=False\n",
    "\n",
    "# create an environment and build features based on Real-World Dataset located in the \"data_env\" folder \n",
    "env = DeepTradingEnvironment.build_environment_from_dirs_and_transform(meta_parameters, objective_parameters,data_hash=\"real_world\", data_dir=\"data_env\", detrend=detrend)\n",
    "\n",
    "number_of_assets = env.number_of_assets"
   ]
  },
  {
   "cell_type": "markdown",
   "metadata": {},
   "source": [
    "#### Split Features and Forward Returns into Training and Test sets"
   ]
  },
  {
   "cell_type": "code",
   "execution_count": null,
   "metadata": {},
   "outputs": [],
   "source": [
    "features = pd.read_parquet(\"temp_persisted_data/only_features_real_world\")\n",
    "features"
   ]
  },
  {
   "cell_type": "code",
   "execution_count": null,
   "metadata": {},
   "outputs": [],
   "source": [
    "features = pd.read_parquet(\"temp_persisted_data/only_features_real_world\")\n",
    "\n",
    "features_train = features[features.index <= '2020-04-01']\n",
    "features_train.sub(features_train.mean()) \n",
    "\n",
    "features_test = features[features.index >= '2020-04-16']\n",
    "features_test = features_test[features_test.index <= '2020-11-16']\n",
    "features_test.sub(features_test.mean())\n",
    "\n",
    "features_train.head()"
   ]
  },
  {
   "cell_type": "code",
   "execution_count": null,
   "metadata": {},
   "outputs": [],
   "source": [
    "forward_return_dates = pd.read_parquet(\"temp_persisted_data/forward_return_dates_real_world\")\n",
    "\n",
    "forward_return_dates_train = forward_return_dates[forward_return_dates.index <= '2020-04-01']\n",
    "\n",
    "forward_return_dates_test = forward_return_dates[forward_return_dates.index > '2020-04-16']\n",
    "forward_return_dates_test = forward_return_dates_test[forward_return_dates_test.index <= '2020-11-16']\n",
    "\n",
    "forward_return_dates_train.head()"
   ]
  },
  {
   "cell_type": "code",
   "execution_count": null,
   "metadata": {},
   "outputs": [],
   "source": [
    "forward_returns = pd.read_parquet(\"temp_persisted_data/only_forward_returns_real_world\")\n",
    "\n",
    "forward_returns_train = forward_returns[forward_returns.index <= '2020-04-01']\n",
    "forward_returns_train.sub(forward_returns_train.mean()) \n",
    "\n",
    "forward_returns_test = forward_returns[forward_returns.index >= '2020-04-16']\n",
    "forward_returns_test = forward_returns_test[forward_returns_test.index <= '2020-11-16']\n",
    "forward_returns_test.sub(forward_returns_test.mean()) \n",
    "\n",
    "forward_returns_train.head()"
   ]
  },
  {
   "cell_type": "code",
   "execution_count": null,
   "metadata": {},
   "outputs": [],
   "source": []
  },
  {
   "cell_type": "markdown",
   "metadata": {},
   "source": [
    "# Run Policy-Gradient Method Algorithms on Real-World Data"
   ]
  },
  {
   "cell_type": "code",
   "execution_count": null,
   "metadata": {},
   "outputs": [],
   "source": [
    "max_iter = 4001\n",
    "model_run = \"7ETF_reward_variance_risk_15_\"\n",
    "sample_observations = 32\n",
    "plot_interval = 500"
   ]
  },
  {
   "cell_type": "markdown",
   "metadata": {},
   "source": [
    "### REINFORCE"
   ]
  },
  {
   "cell_type": "code",
   "execution_count": null,
   "metadata": {
    "scrolled": true
   },
   "outputs": [],
   "source": [
    "# create environment and run REINFORCE\n",
    "\n",
    "env_reinforce_train=DeepTradingEnvironment(features_train, forward_returns_train, forward_return_dates_train, objective_parameters,\n",
    "                 meta_parameters)\n",
    "env_reinforce_test = DeepTradingEnvironment(features_test, forward_returns_test, forward_return_dates_test, objective_parameters,\n",
    "                 meta_parameters)\n",
    "\n",
    "linear_agent_reinforce = LinearAgent(environment=env_reinforce_train,out_reward_window_td=out_reward_window, reward_function=\"return_with_variance_risk\",sample_observations=sample_observations)\n",
    "linear_agent_reinforce.REINFORCE_fit(max_iterations=max_iter, add_baseline=False, plot_every = plot_interval, train_input = portfolio_df_train, model_run = model_run, detrend=detrend, verbose=True)"
   ]
  },
  {
   "cell_type": "code",
   "execution_count": null,
   "metadata": {},
   "outputs": [],
   "source": []
  },
  {
   "cell_type": "code",
   "execution_count": null,
   "metadata": {},
   "outputs": [],
   "source": [
    "# perform backtest \n",
    "backtest_reinforce = plot_backtest(linear_agent_reinforce, env_reinforce_test, portfolio_df_test, model_run, model=\"REINFORCE\")\n",
    "backtest_reinforce.to_csv('temp_persisted_data/'+model_run+'backtest_reinforce.csv')"
   ]
  },
  {
   "cell_type": "code",
   "execution_count": null,
   "metadata": {},
   "outputs": [],
   "source": [
    "(test_input_returns+1).cumprod().plot()"
   ]
  },
  {
   "cell_type": "code",
   "execution_count": null,
   "metadata": {},
   "outputs": [],
   "source": [
    "(test_input_returns.sum(axis=1)+1).cumprod().plot()"
   ]
  },
  {
   "cell_type": "markdown",
   "metadata": {},
   "source": [
    "### REINFORCE with Baseline"
   ]
  },
  {
   "cell_type": "code",
   "execution_count": null,
   "metadata": {},
   "outputs": [],
   "source": [
    "# create environment and run REINFORCE with baseline\n",
    "env_reinforce_baseline_train = DeepTradingEnvironment(features_train, forward_returns_train, forward_return_dates_train, objective_parameters,\n",
    "                 meta_parameters)\n",
    "env_reinforce_baseline_test = DeepTradingEnvironment(features_test, forward_returns_test, forward_return_dates_test, objective_parameters,\n",
    "                 meta_parameters)\n",
    "\n",
    "linear_agent_reinforce_baseline = LinearAgent(environment=env_reinforce_baseline_train,out_reward_window_td=out_reward_window, reward_function=\"return_with_variance_risk\",sample_observations=sample_observations)\n",
    "linear_agent_reinforce_baseline.REINFORCE_fit(max_iterations=max_iter, add_baseline=True, plot_every = plot_interval, train_input = portfolio_df_train, model_run = model_run, detrend=detrend, verbose=True)"
   ]
  },
  {
   "cell_type": "code",
   "execution_count": null,
   "metadata": {},
   "outputs": [],
   "source": [
    "# perform backtest \n",
    "backtest_reinforce_baseline = plot_backtest(linear_agent_reinforce_baseline, env_reinforce_baseline_test, portfolio_df_test, model_run, model=\"REINFORCE with Baseline\")\n",
    "backtest_reinforce_baseline.to_csv('temp_persisted_data/'+model_run+'backtest_reinforce_baseline.csv')"
   ]
  },
  {
   "cell_type": "markdown",
   "metadata": {},
   "source": [
    "### Actor-Critic"
   ]
  },
  {
   "cell_type": "code",
   "execution_count": null,
   "metadata": {},
   "outputs": [],
   "source": [
    "# create environment and run Actor-Critic \n",
    "\n",
    "env_actor_critic_no_trace_train = DeepTradingEnvironment(features_train, forward_returns_train, forward_return_dates_train, objective_parameters,\n",
    "                 meta_parameters)\n",
    "env_actor_critic_no_trace_test = DeepTradingEnvironment(features_test, forward_returns_test, forward_return_dates_test, objective_parameters,\n",
    "                 meta_parameters)\n",
    "\n",
    "linear_agent_actor_critic_no_trace = LinearAgent(environment=env_actor_critic_no_trace_train,out_reward_window_td=out_reward_window, reward_function=\"return_with_variance_risk\",sample_observations=sample_observations)\n",
    "linear_agent_actor_critic_no_trace.ACTOR_CRITIC_FIT(use_traces=False,max_iterations=max_iter, plot_every = plot_interval,train_input = portfolio_df_train, model_run = model_run, detrend=detrend, verbose=True)"
   ]
  },
  {
   "cell_type": "code",
   "execution_count": null,
   "metadata": {},
   "outputs": [],
   "source": [
    "# perform backtest\n",
    "backtest_actor_critic_no_trace = plot_backtest(linear_agent_actor_critic_no_trace, env_actor_critic_no_trace_test,  portfolio_df_test, model_run, model=\"Actor-Critic without Eligibility Traces\")\n",
    "backtest_actor_critic_no_trace.to_csv('temp_persisted_data/'+model_run+'backtest_actor_critic_no_trace.csv')"
   ]
  },
  {
   "cell_type": "markdown",
   "metadata": {},
   "source": [
    "### Actor-Critic with Eligibility Traces"
   ]
  },
  {
   "cell_type": "code",
   "execution_count": null,
   "metadata": {},
   "outputs": [],
   "source": [
    "# create environment and run Actor-Critic with Eligibility Traces \n",
    "env_actor_critic_trace_train = DeepTradingEnvironment(features_train, forward_returns_train, forward_return_dates_train, objective_parameters,\n",
    "                 meta_parameters)\n",
    "env_actor_critic_trace_test = DeepTradingEnvironment(features_test, forward_returns_test, forward_return_dates_test, objective_parameters,\n",
    "                 meta_parameters)\n",
    "\n",
    "linear_agent_actor_critic_trace = LinearAgent(environment=env_actor_critic_trace_train,out_reward_window_td=out_reward_window, reward_function=\"return_with_variance_risk\",sample_observations=sample_observations)\n",
    "linear_agent_actor_critic_trace.ACTOR_CRITIC_FIT(use_traces=True,max_iterations=max_iter, plot_every = plot_interval,train_input = portfolio_df_train, model_run = model_run, detrend=detrend, verbose=True)"
   ]
  },
  {
   "cell_type": "code",
   "execution_count": null,
   "metadata": {},
   "outputs": [],
   "source": [
    "# perform backtest \n",
    "backtest_actor_critic_trace = plot_backtest(linear_agent_actor_critic_trace, env_actor_critic_trace_test,  portfolio_df_test, model_run, model=\"Actor-Critic with Eligibility Traces\")\n",
    "backtest_actor_critic_trace.to_csv('temp_persisted_data/'+model_run+'backtest_actor_critic_trace.csv')"
   ]
  },
  {
   "cell_type": "code",
   "execution_count": null,
   "metadata": {},
   "outputs": [],
   "source": []
  }
 ],
 "metadata": {
  "kernelspec": {
   "display_name": "e599a_py37",
   "language": "python",
   "name": "e599a_py37"
  },
  "language_info": {
   "codemirror_mode": {
    "name": "ipython",
    "version": 3
   },
   "file_extension": ".py",
   "mimetype": "text/x-python",
   "name": "python",
   "nbconvert_exporter": "python",
   "pygments_lexer": "ipython3",
   "version": "3.7.9"
  }
 },
 "nbformat": 4,
 "nbformat_minor": 4
}
