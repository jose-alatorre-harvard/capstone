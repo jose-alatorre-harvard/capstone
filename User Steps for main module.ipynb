{
 "cells": [
  {
   "cell_type": "markdown",
   "metadata": {},
   "source": [
    "# Capstone Steps\n",
    "\n",
    "\n",
    "1. For each asset to include in the portfolio obtain a time series of  1minute bars  and  save them as parquet in the directory data_env. \n",
    "2. execute persist command (this will persist the data transformation for further training, here also we need to do test_train_split)\n",
    "3. train desired model\n",
    "\n",
    "\n",
    "\n",
    "**Libraries to install\n",
    "* open ai gym\n",
    "* spinning up\n",
    "* talib"
   ]
  },
  {
   "cell_type": "code",
   "execution_count": null,
   "metadata": {},
   "outputs": [],
   "source": []
  },
  {
   "cell_type": "code",
   "execution_count": 1,
   "metadata": {},
   "outputs": [],
   "source": [
    "from utils import build_and_persist_features_from_dir\n",
    "from environments.e_greedy import DeepTradingEnvironment\n",
    "import datetime\n",
    "import pandas as pd"
   ]
  },
  {
   "cell_type": "code",
   "execution_count": 2,
   "metadata": {},
   "outputs": [],
   "source": [
    "out_reward_window=datetime.timedelta(days=7)\n",
    "# parameters related to the transformation of data, this parameters govern an step before the algorithm\n",
    "meta_parameters = {\"in_bars_count\": 30,\n",
    "                   \"out_reward_window\":out_reward_window ,\n",
    "                   \"state_type\":\"in_window_out_window\",\n",
    "                   \"asset_names\":[\"asset_1\",\"asset_2\"],\n",
    "                   \"include_previous_weights\":False}\n",
    "objective_parameters = {\"percent_commission\": .001,\n",
    "                        }"
   ]
  },
  {
   "cell_type": "code",
   "execution_count": 3,
   "metadata": {},
   "outputs": [
    {
     "name": "stdout",
     "output_type": "stream",
     "text": [
      "features already persisted\n"
     ]
    }
   ],
   "source": [
    "build_and_persist_features_from_dir( data_hash=\"test_dirs\",\n",
    "                                         meta_parameters=meta_parameters,\n",
    "                                       )\n",
    "                                        "
   ]
  },
  {
   "cell_type": "code",
   "execution_count": 4,
   "metadata": {},
   "outputs": [],
   "source": [
    "forward_returns_dates=pd.read_parquet(\"temp_persisted_data/forward_return_dates_test_dirs\")\n",
    "features=pd.read_parquet(\"temp_persisted_data/only_features_test_dirs\")\n",
    "forward_returns=pd.read_parquet(\"temp_persisted_data/only_forward_returns_test_dirs\")\n"
   ]
  },
  {
   "cell_type": "code",
   "execution_count": 6,
   "metadata": {},
   "outputs": [
    {
     "name": "stderr",
     "output_type": "stream",
     "text": [
      "/home/jose/venv/p37_deep_trading/lib/python3.7/site-packages/gym/logger.py:30: UserWarning: \u001b[33mWARN: Box bound precision lowered by casting to float32\u001b[0m\n",
      "  warnings.warn(colorize('%s: %s'%('WARN', msg % args), 'yellow'))\n"
     ]
    }
   ],
   "source": [
    "env=DeepTradingEnvironment(features,forward_returns,forward_returns_dates, objective_parameters,\n",
    "                          meta_parameters)"
   ]
  },
  {
   "cell_type": "code",
   "execution_count": null,
   "metadata": {},
   "outputs": [],
   "source": []
  }
 ],
 "metadata": {
  "kernelspec": {
   "display_name": "p37_deep_trading",
   "language": "python",
   "name": "p37_deep_trading"
  },
  "language_info": {
   "codemirror_mode": {
    "name": "ipython",
    "version": 3
   },
   "file_extension": ".py",
   "mimetype": "text/x-python",
   "name": "python",
   "nbconvert_exporter": "python",
   "pygments_lexer": "ipython3",
   "version": "3.7.5"
  },
  "varInspector": {
   "cols": {
    "lenName": 16,
    "lenType": 16,
    "lenVar": 40
   },
   "kernels_config": {
    "python": {
     "delete_cmd_postfix": "",
     "delete_cmd_prefix": "del ",
     "library": "var_list.py",
     "varRefreshCmd": "print(var_dic_list())"
    },
    "r": {
     "delete_cmd_postfix": ") ",
     "delete_cmd_prefix": "rm(",
     "library": "var_list.r",
     "varRefreshCmd": "cat(var_dic_list()) "
    }
   },
   "types_to_exclude": [
    "module",
    "function",
    "builtin_function_or_method",
    "instance",
    "_Feature"
   ],
   "window_display": false
  }
 },
 "nbformat": 4,
 "nbformat_minor": 4
}
