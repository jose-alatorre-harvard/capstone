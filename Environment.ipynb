{
 "cells": [
  {
   "cell_type": "code",
   "execution_count": null,
   "metadata": {},
   "outputs": [
    {
     "name": "stdout",
     "output_type": "stream",
     "text": [
      "===Meta Parameters===\n",
      "{'in_bars_count': 30, 'out_reward_window': datetime.timedelta(days=7), 'state_type': 'in_window_out_window'}\n",
      "===Objective Parameters===\n",
      "{'percent_commission': 0.001}\n"
     ]
    }
   ],
   "source": [
    "from lib.Environment import DeepTradingEnvironment\n",
    "import datetime\n",
    "# parameters related to the transformation of data, this parameters govern an step before the algorithm\n",
    "meta_parameters = {\"in_bars_count\": 30,\n",
    "                   \"out_reward_window\": datetime.timedelta(days=7),\n",
    "                   \"state_type\":\"in_window_out_window\"}\n",
    "\n",
    "# parameters that are related to the objective/reward function construction\n",
    "objective_parameters = {\"percent_commission\": .001}\n",
    "print(\"===Meta Parameters===\")\n",
    "print(meta_parameters)\n",
    "print(\"===Objective Parameters===\")\n",
    "print(objective_parameters)\n",
    "\n",
    "\n",
    "assets_simulation_details={\"asset_1\":{\"method\":\"GBM\",\"sigma\":.1,\"mean\":.1},\n",
    "                    \"asset_2\":{\"method\":\"GBM\",\"sigma\":.2,\"mean\":.2}}\n",
    "\n",
    "env=DeepTradingEnvironment.build_environment_from_simulated_assets(assets_simulation_details=assets_simulation_details,\n",
    "                                                                     data_hash=\"simulation_gbm\",\n",
    "                                                                     meta_parameters=meta_parameters,\n",
    "                                                                     objective_parameters=objective_parameters)\n",
    "\n"
   ]
  },
  {
   "cell_type": "code",
   "execution_count": null,
   "metadata": {},
   "outputs": [],
   "source": [
    "# get state data\n",
    "\n",
    "date=env.features.index[100]\n",
    "state_features, weights_on_date =env.state.get_state_on_date(target_date=date)\n",
    "print(\"on date {} we observe {} input features\".format(date,state_features.shape))\n",
    "state_features"
   ]
  },
  {
   "cell_type": "code",
   "execution_count": null,
   "metadata": {},
   "outputs": [],
   "source": [
    "print(\"and the weights that the portfolio have up to that time\")\n",
    "weights_on_date.head()"
   ]
  },
  {
   "cell_type": "code",
   "execution_count": null,
   "metadata": {},
   "outputs": [],
   "source": []
  }
 ],
 "metadata": {
  "kernelspec": {
   "display_name": "p37_deep_trading",
   "language": "python",
   "name": "p37_deep_trading"
  },
  "language_info": {
   "codemirror_mode": {
    "name": "ipython",
    "version": 3
   },
   "file_extension": ".py",
   "mimetype": "text/x-python",
   "name": "python",
   "nbconvert_exporter": "python",
   "pygments_lexer": "ipython3",
   "version": "3.7.5"
  },
  "varInspector": {
   "cols": {
    "lenName": 16,
    "lenType": 16,
    "lenVar": 40
   },
   "kernels_config": {
    "python": {
     "delete_cmd_postfix": "",
     "delete_cmd_prefix": "del ",
     "library": "var_list.py",
     "varRefreshCmd": "print(var_dic_list())"
    },
    "r": {
     "delete_cmd_postfix": ") ",
     "delete_cmd_prefix": "rm(",
     "library": "var_list.r",
     "varRefreshCmd": "cat(var_dic_list()) "
    }
   },
   "types_to_exclude": [
    "module",
    "function",
    "builtin_function_or_method",
    "instance",
    "_Feature"
   ],
   "window_display": false
  }
 },
 "nbformat": 4,
 "nbformat_minor": 4
}