{
 "cells": [
  {
   "cell_type": "code",
   "execution_count": 1,
   "metadata": {},
   "outputs": [
    {
     "name": "stdout",
     "output_type": "stream",
     "text": [
      "===Meta Parameters===\n",
      "{'in_bars_count': 30, 'out_reward_window': datetime.timedelta(days=7), 'state_type': 'in_window_out_window'}\n",
      "===Objective Parameters===\n",
      "{'percent_commission': 0.001}\n"
     ]
    }
   ],
   "source": [
    "from lib.Environment import DeepTradingEnvironment, LinearAgent\n",
    "import numpy as np\n",
    "import datetime\n",
    "# parameters related to the transformation of data, this parameters govern an step before the algorithm\n",
    "\n",
    "out_reward_window=datetime.timedelta(days=7)\n",
    "meta_parameters = {\"in_bars_count\": 30,\n",
    "                   \"out_reward_window\": datetime.timedelta(days=7),\n",
    "                   \"state_type\":\"in_window_out_window\"}\n",
    "\n",
    "# parameters that are related to the objective/reward function construction\n",
    "objective_parameters = {\"percent_commission\": .001}\n",
    "print(\"===Meta Parameters===\")\n",
    "print(meta_parameters)\n",
    "print(\"===Objective Parameters===\")\n",
    "print(objective_parameters)\n",
    "\n",
    "\n",
    "assets_simulation_details={\"asset_1\":{\"method\":\"GBM\",\"sigma\":.1,\"mean\":.1},\n",
    "                    \"asset_2\":{\"method\":\"GBM\",\"sigma\":.2,\"mean\":.2}}\n",
    "\n",
    "env=DeepTradingEnvironment.build_environment_from_simulated_assets(assets_simulation_details=assets_simulation_details,\n",
    "                                                                     data_hash=\"simulation_gbm\",\n",
    "                                                                     meta_parameters=meta_parameters,\n",
    "                                                                     objective_parameters=objective_parameters)\n",
    "\n"
   ]
  },
  {
   "cell_type": "code",
   "execution_count": 2,
   "metadata": {},
   "outputs": [
    {
     "name": "stdout",
     "output_type": "stream",
     "text": [
      "on date 2021-01-05 13:10:00 we observe (2,) input features\n"
     ]
    },
    {
     "data": {
      "text/plain": [
       "asset_1_log_returns    0.007406\n",
       "asset_2_log_returns    0.016915\n",
       "Name: 2021-01-05 13:10:00, dtype: float64"
      ]
     },
     "execution_count": 2,
     "metadata": {},
     "output_type": "execute_result"
    }
   ],
   "source": [
    "#example get state data\n",
    "\n",
    "date=env.features.index[100]\n",
    "state_features, weights_on_date =env.state.get_state_on_date(target_date=date)\n",
    "print(\"on date {} we observe {} input features\".format(date,state_features.shape))\n",
    "state_features"
   ]
  },
  {
   "cell_type": "code",
   "execution_count": 7,
   "metadata": {},
   "outputs": [
    {
     "name": "stdout",
     "output_type": "stream",
     "text": [
      "and the weights that the portfolio have up to that time\n"
     ]
    },
    {
     "data": {
      "text/plain": [
       "asset_1_forward_return_7_days,_0:00:00    0.926181\n",
       "asset_2_forward_return_7_days,_0:00:00    0.107904\n",
       "Name: 2021-01-05 13:10:00, dtype: float64"
      ]
     },
     "execution_count": 7,
     "metadata": {},
     "output_type": "execute_result"
    }
   ],
   "source": [
    "print(\"and the weights that the portfolio have up to that time\")\n",
    "tyweights_on_date"
   ]
  },
  {
   "cell_type": "code",
   "execution_count": 4,
   "metadata": {},
   "outputs": [
    {
     "data": {
      "text/plain": [
       "2021-01-05 13:10:00   -0.015374\n",
       "dtype: float64"
      ]
     },
     "execution_count": 4,
     "metadata": {},
     "output_type": "execute_result"
    }
   ],
   "source": [
    "action_portfolio_weights = np.random.rand(2)\n",
    "obs, reward, done, info = env.step(action_portfolio_weights=action_portfolio_weights,\n",
    "                                                action_date=date)\n",
    "reward"
   ]
  },
  {
   "cell_type": "code",
   "execution_count": null,
   "metadata": {},
   "outputs": [],
   "source": []
  },
  {
   "cell_type": "markdown",
   "metadata": {},
   "source": [
    "# Linear Policy Parametrization\n",
    "\n",
    "## Continous Policies Parametrization\n",
    "\n",
    "### Background\n",
    "\n",
    "Gaussian probability distribution:\n",
    "\n",
    "$$\n",
    "p(x):=\\frac{1}{\\sigma\\sqrt{2\\pi}}exp(-\\frac{(x-\\mu)^2}{2\\sigma^2})\n",
    "$$\n",
    "\n",
    "### Gaussian Policy\n",
    "\n",
    "$$\n",
    "\\pi(a |s,\\boldsymbol\\theta):=\\frac{1}{\\sigma(s,\\boldsymbol\\theta)\\sqrt{2\\pi}}exp(-\\frac{(a-\\mu(s,\\boldsymbol\\theta))^2}{2\\sigma(s,\\boldsymbol\\theta)^2})\n",
    "$$\n",
    "\n",
    "#### Linear Parametrization\n",
    "\n",
    "$$\n",
    "\\theta:=[\\boldsymbol{\\theta_{\\mu}},\\boldsymbol{\\theta_{\\sigma}}]\n",
    "$$\n",
    "\n",
    "$$\n",
    "\\mu(s,\\boldsymbol\\theta) :=\\boldsymbol{\\theta_{\\mu}}^T \\pmb{x}(s)\n",
    "$$\n",
    "\n",
    "$$\n",
    "\\sigma(s,\\boldsymbol\\theta) :=exp(\\boldsymbol{\\theta_{\\sigma}}^T \\pmb{x}(s))\n",
    "$$\n",
    "\n",
    "#### Gradients\n",
    "\n",
    "$$\n",
    "\\nabla ln\\pi(a|s,\\boldsymbol\\theta_\\mu)=\\frac{1}{\\sigma(s,\\boldsymbol\\theta)^2}(a-\\mu(s,\\boldsymbol\\theta))\\pmb{x}(s)\n",
    "$$\n",
    "\n",
    "$$\n",
    "\\nabla ln\\pi(a|s,\\boldsymbol\\theta_\\sigma)=\\left(\\frac{(a-\\mu(s,\\boldsymbol\\theta))^2}{\\sigma(s,\\boldsymbol\\theta)^2} -1\\right)\\pmb{x}(s)\n",
    "$$"
   ]
  },
  {
   "cell_type": "markdown",
   "metadata": {},
   "source": [
    "##  Multivariate Case\n",
    "\n",
    "We have a continuous multivariate case parametrized the following way:\n",
    "\n",
    "$$\n",
    "\\pi(a|s,\\theta)=\\frac{exp\\left(\\frac{1}{2}(a-\\mu(s,\\Theta_\\mu))^T\\Sigma(s,\\theta_\\Sigma)^{-1}(a-\\mu(s,\\Theta_\\mu))\\right)}{\\sqrt{(2\\pi)^k|\\Sigma(s,\\theta_\\Sigma)|}}\n",
    "$$\n",
    "\n",
    "Where\n",
    "\n",
    "$$\n",
    "\\mu(s,\\Theta_\\mu)=\\Theta f\n",
    "$$\n",
    "\n",
    "The parametrization of $\\Sigma$ will be defined as\n",
    "\n",
    "$$\n",
    "\\Sigma{i,j}=\\sum_k^m \\theta^{\\sigma}_{i,j,k}f_k\n",
    "$$\n",
    "\n",
    "$f=[f_1,...,f_m]$ is the vector of $m$ features and $\\Theta$ is a row matrix $\\theta_i^T=[\\theta_{i,1}...\\theta_{i,n}]$ . Hence each of the individual means is a linear combination of the features.\n",
    "\n",
    "\n",
    "Therefore to calculuate the log gradient we need to use Matrix Calculus. first, we define\n",
    "\n",
    "$$\n",
    "u=\\Theta f\n",
    "$$\n",
    "\n",
    "then we can rewrite\n",
    "\n",
    "$$\n",
    "ln(\\pi(a|s,\\theta))=\\frac{1}{2}(a-u)^T\\Sigma(s,\\theta_\\Sigma)^{-1}(a-u) -ln(\\sqrt{(2\\pi)^k|\\Sigma(s,\\theta_\\Sigma)|})\n",
    "$$\n",
    "\n",
    "By queation  [137] from http://www.math.uwaterloo.ca/~hwolkowi//matrixcookbook.pdf\n",
    "$$\n",
    "\\nabla ln(\\pi(a|s,\\theta_{i,k}^\\mu))=Tr[\\frac{\\partial g(u)}{\\partial u}^T \\frac{\\partial u}{\\partial \\theta_{i,k}^\\mu }]\n",
    "$$\n",
    "\n",
    "And then by equation [86] http://www.math.uwaterloo.ca/~hwolkowi//matrixcookbook.pdf\n",
    " \n",
    "$$\n",
    "\\nabla ln(\\pi(a|s,\\theta_{i,k}^\\mu))=Tr[(\\Sigma^{-1}(a-\\Theta f))^T I[i]*f_k]\n",
    "$$\n",
    "\n",
    "Where $I[i]$ is a row vector  with zeros in all rows and 1 in row $i$ This can expressed as\n",
    "\n",
    "$$\n",
    "\\nabla ln(\\pi(a|s,\\theta_{i,k}^\\mu))=\\text{row}_i[\\Sigma^{-1}(a-\\Theta f)] * f_k\n",
    "$$"
   ]
  },
  {
   "cell_type": "markdown",
   "metadata": {},
   "source": [
    "For the case of  $\\Sigma$ we can also follow https://stats.stackexchange.com/questions/27436/how-to-take-derivative-of-multivariate-normal-density and apply the chain rule to obtain\n",
    "\n",
    "$$\n",
    "\\nabla ln(\\pi(a|s,\\theta_{i,j,k}^\\sigma))=Tr\\left[[-\\frac{1}{2}(\\Sigma^{-1}-\\Sigma^{-1}(a-\\mu(s,\\Theta_\\mu))(a-\\mu(s,\\Theta_\\mu))^T \\Sigma^{-1}]^T I[i=i,j=j]*f_k\\right]\n",
    "$$\n",
    "\n"
   ]
  },
  {
   "cell_type": "code",
   "execution_count": 5,
   "metadata": {},
   "outputs": [],
   "source": [
    "#example sample environment with  Linear agent policy"
   ]
  },
  {
   "cell_type": "code",
   "execution_count": 6,
   "metadata": {},
   "outputs": [
    {
     "ename": "TypeError",
     "evalue": "'int' object is not subscriptable",
     "output_type": "error",
     "traceback": [
      "\u001B[0;31m---------------------------------------------------------------------------\u001B[0m",
      "\u001B[0;31mTypeError\u001B[0m                                 Traceback (most recent call last)",
      "\u001B[0;32m<ipython-input-6-e7b800d8bb51>\u001B[0m in \u001B[0;36m<module>\u001B[0;34m\u001B[0m\n\u001B[0;32m----> 1\u001B[0;31m \u001B[0mlinear_agent\u001B[0m\u001B[0;34m=\u001B[0m\u001B[0mLinearAgent\u001B[0m\u001B[0;34m(\u001B[0m\u001B[0menvironment\u001B[0m\u001B[0;34m=\u001B[0m\u001B[0menv\u001B[0m\u001B[0;34m,\u001B[0m\u001B[0mout_reward_window_td\u001B[0m\u001B[0;34m=\u001B[0m\u001B[0mout_reward_window\u001B[0m\u001B[0;34m)\u001B[0m\u001B[0;34m\u001B[0m\u001B[0;34m\u001B[0m\u001B[0m\n\u001B[0m\u001B[1;32m      2\u001B[0m \u001B[0mlinear_agent\u001B[0m\u001B[0;34m.\u001B[0m\u001B[0msample_env\u001B[0m\u001B[0;34m(\u001B[0m\u001B[0mobservations\u001B[0m\u001B[0;34m=\u001B[0m\u001B[0;36m32\u001B[0m\u001B[0;34m)\u001B[0m\u001B[0;34m\u001B[0m\u001B[0;34m\u001B[0m\u001B[0m\n",
      "\u001B[0;32m~/code/capstone/lib/Environment.py\u001B[0m in \u001B[0;36m__init__\u001B[0;34m(self, environment, out_reward_window_td)\u001B[0m\n\u001B[1;32m    349\u001B[0m         \u001B[0mself\u001B[0m\u001B[0;34m.\u001B[0m\u001B[0mout_reward_window_td\u001B[0m\u001B[0;34m=\u001B[0m\u001B[0mout_reward_window_td\u001B[0m\u001B[0;34m\u001B[0m\u001B[0;34m\u001B[0m\u001B[0m\n\u001B[1;32m    350\u001B[0m         \u001B[0mself\u001B[0m\u001B[0;34m.\u001B[0m\u001B[0m_initialize_helper_properties\u001B[0m\u001B[0;34m(\u001B[0m\u001B[0;34m)\u001B[0m\u001B[0;34m\u001B[0m\u001B[0;34m\u001B[0m\u001B[0m\n\u001B[0;32m--> 351\u001B[0;31m         \u001B[0mself\u001B[0m\u001B[0;34m.\u001B[0m\u001B[0m_initialize_linear_parameters\u001B[0m\u001B[0;34m(\u001B[0m\u001B[0;34m)\u001B[0m\u001B[0;34m\u001B[0m\u001B[0;34m\u001B[0m\u001B[0m\n\u001B[0m\u001B[1;32m    352\u001B[0m \u001B[0;34m\u001B[0m\u001B[0m\n\u001B[1;32m    353\u001B[0m     \u001B[0;32mdef\u001B[0m \u001B[0m_initialize_helper_properties\u001B[0m\u001B[0;34m(\u001B[0m\u001B[0mself\u001B[0m\u001B[0;34m)\u001B[0m\u001B[0;34m:\u001B[0m\u001B[0;34m\u001B[0m\u001B[0;34m\u001B[0m\u001B[0m\n",
      "\u001B[0;32m~/code/capstone/lib/Environment.py\u001B[0m in \u001B[0;36m_initialize_linear_parameters\u001B[0;34m(self)\u001B[0m\n\u001B[1;32m    363\u001B[0m \u001B[0;34m\u001B[0m\u001B[0m\n\u001B[1;32m    364\u001B[0m \u001B[0;34m\u001B[0m\u001B[0m\n\u001B[0;32m--> 365\u001B[0;31m         param_dim=(self.state_features_shape[0]\\\n\u001B[0m\u001B[1;32m    366\u001B[0m                                    *self.state_features_shape[1]+self.number_of_assets)*self.number_of_assets\n\u001B[1;32m    367\u001B[0m         \u001B[0mself\u001B[0m\u001B[0;34m.\u001B[0m\u001B[0mtheta_mu\u001B[0m\u001B[0;34m=\u001B[0m\u001B[0mnp\u001B[0m\u001B[0;34m.\u001B[0m\u001B[0mrandom\u001B[0m\u001B[0;34m.\u001B[0m\u001B[0mrand\u001B[0m\u001B[0;34m(\u001B[0m\u001B[0mparam_dim\u001B[0m\u001B[0;34m)\u001B[0m\u001B[0;34m\u001B[0m\u001B[0;34m\u001B[0m\u001B[0m\n",
      "\u001B[0;31mTypeError\u001B[0m: 'int' object is not subscriptable"
     ]
    }
   ],
   "source": [
    "linear_agent=LinearAgent(environment=env,out_reward_window_td=out_reward_window)\n",
    "linear_agent.sample_env(observations=32)"
   ]
  },
  {
   "cell_type": "code",
   "execution_count": null,
   "metadata": {},
   "outputs": [],
   "source": [
    "#weights remain in buffer After  few iterations of training we can plot performance\n",
    "\n",
    "env.state.weight_buffer.plot()\n"
   ]
  }
 ],
 "metadata": {
  "kernelspec": {
   "display_name": "p37_deep_trading",
   "language": "python",
   "name": "p37_deep_trading"
  },
  "language_info": {
   "codemirror_mode": {
    "name": "ipython",
    "version": 3
   },
   "file_extension": ".py",
   "mimetype": "text/x-python",
   "name": "python",
   "nbconvert_exporter": "python",
   "pygments_lexer": "ipython3",
   "version": "3.7.5"
  },
  "varInspector": {
   "cols": {
    "lenName": 16,
    "lenType": 16,
    "lenVar": 40
   },
   "kernels_config": {
    "python": {
     "delete_cmd_postfix": "",
     "delete_cmd_prefix": "del ",
     "library": "var_list.py",
     "varRefreshCmd": "print(var_dic_list())"
    },
    "r": {
     "delete_cmd_postfix": ") ",
     "delete_cmd_prefix": "rm(",
     "library": "var_list.r",
     "varRefreshCmd": "cat(var_dic_list()) "
    }
   },
   "types_to_exclude": [
    "module",
    "function",
    "builtin_function_or_method",
    "instance",
    "_Feature"
   ],
   "window_display": false
  }
 },
 "nbformat": 4,
 "nbformat_minor": 4
}