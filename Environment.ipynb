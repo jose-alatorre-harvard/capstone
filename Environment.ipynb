{
 "cells": [
  {
   "cell_type": "code",
   "execution_count": 1,
   "metadata": {},
   "outputs": [
    {
     "name": "stdout",
     "output_type": "stream",
     "text": [
      "===Meta Parameters===\n",
      "{'in_bars_count': 30, 'out_reward_window': datetime.timedelta(days=7), 'state_type': 'in_window_out_window'}\n",
      "===Objective Parameters===\n",
      "{'percent_commission': 0.001}\n"
     ]
    }
   ],
   "source": [
    "from lib.Environment import DeepTradingEnvironment\n",
    "import datetime\n",
    "# parameters related to the transformation of data, this parameters govern an step before the algorithm\n",
    "meta_parameters = {\"in_bars_count\": 30,\n",
    "                   \"out_reward_window\": datetime.timedelta(days=7),\n",
    "                   \"state_type\":\"in_window_out_window\"}\n",
    "\n",
    "# parameters that are related to the objective/reward function construction\n",
    "objective_parameters = {\"percent_commission\": .001}\n",
    "print(\"===Meta Parameters===\")\n",
    "print(meta_parameters)\n",
    "print(\"===Objective Parameters===\")\n",
    "print(objective_parameters)\n",
    "\n",
    "\n",
    "assets_simulation_details={\"asset_1\":{\"method\":\"GBM\",\"sigma\":.1,\"mean\":.1},\n",
    "                    \"asset_2\":{\"method\":\"GBM\",\"sigma\":.2,\"mean\":.2}}\n",
    "\n",
    "env=DeepTradingEnvironment.build_environment_from_simulated_assets(assets_simulation_details=assets_simulation_details,\n",
    "                                                                     data_hash=\"simulation_gbm\",\n",
    "                                                                     meta_parameters=meta_parameters,\n",
    "                                                                     objective_parameters=objective_parameters)\n",
    "\n"
   ]
  },
  {
   "cell_type": "code",
   "execution_count": 2,
   "metadata": {},
   "outputs": [
    {
     "name": "stdout",
     "output_type": "stream",
     "text": [
      "on date 2021-01-04 17:20:00 we observe (30, 2) input features\n"
     ]
    },
    {
     "data": {
      "text/html": [
       "<div>\n",
       "<style scoped>\n",
       "    .dataframe tbody tr th:only-of-type {\n",
       "        vertical-align: middle;\n",
       "    }\n",
       "\n",
       "    .dataframe tbody tr th {\n",
       "        vertical-align: top;\n",
       "    }\n",
       "\n",
       "    .dataframe thead th {\n",
       "        text-align: right;\n",
       "    }\n",
       "</style>\n",
       "<table border=\"1\" class=\"dataframe\">\n",
       "  <thead>\n",
       "    <tr style=\"text-align: right;\">\n",
       "      <th></th>\n",
       "      <th>asset_1_log_returns</th>\n",
       "      <th>asset_2_log_returns</th>\n",
       "    </tr>\n",
       "  </thead>\n",
       "  <tbody>\n",
       "    <tr>\n",
       "      <th>2020-12-06 17:20:00</th>\n",
       "      <td>-0.002495</td>\n",
       "      <td>-0.007164</td>\n",
       "    </tr>\n",
       "    <tr>\n",
       "      <th>2020-12-07 17:20:00</th>\n",
       "      <td>-0.008014</td>\n",
       "      <td>-0.026163</td>\n",
       "    </tr>\n",
       "    <tr>\n",
       "      <th>2020-12-08 17:20:00</th>\n",
       "      <td>0.003765</td>\n",
       "      <td>-0.004675</td>\n",
       "    </tr>\n",
       "    <tr>\n",
       "      <th>2020-12-09 17:20:00</th>\n",
       "      <td>-0.001883</td>\n",
       "      <td>-0.005627</td>\n",
       "    </tr>\n",
       "    <tr>\n",
       "      <th>2020-12-10 17:20:00</th>\n",
       "      <td>-0.001403</td>\n",
       "      <td>0.016586</td>\n",
       "    </tr>\n",
       "    <tr>\n",
       "      <th>2020-12-11 17:20:00</th>\n",
       "      <td>-0.004107</td>\n",
       "      <td>-0.014523</td>\n",
       "    </tr>\n",
       "    <tr>\n",
       "      <th>2020-12-12 17:20:00</th>\n",
       "      <td>0.009391</td>\n",
       "      <td>0.015092</td>\n",
       "    </tr>\n",
       "    <tr>\n",
       "      <th>2020-12-13 17:20:00</th>\n",
       "      <td>0.016332</td>\n",
       "      <td>-0.004943</td>\n",
       "    </tr>\n",
       "    <tr>\n",
       "      <th>2020-12-14 17:20:00</th>\n",
       "      <td>0.002346</td>\n",
       "      <td>-0.009137</td>\n",
       "    </tr>\n",
       "    <tr>\n",
       "      <th>2020-12-15 17:20:00</th>\n",
       "      <td>-0.001146</td>\n",
       "      <td>0.000893</td>\n",
       "    </tr>\n",
       "    <tr>\n",
       "      <th>2020-12-16 17:20:00</th>\n",
       "      <td>0.003355</td>\n",
       "      <td>0.018702</td>\n",
       "    </tr>\n",
       "    <tr>\n",
       "      <th>2020-12-17 17:20:00</th>\n",
       "      <td>0.015111</td>\n",
       "      <td>0.011714</td>\n",
       "    </tr>\n",
       "    <tr>\n",
       "      <th>2020-12-18 17:20:00</th>\n",
       "      <td>-0.004475</td>\n",
       "      <td>-0.001164</td>\n",
       "    </tr>\n",
       "    <tr>\n",
       "      <th>2020-12-19 17:20:00</th>\n",
       "      <td>0.000008</td>\n",
       "      <td>0.009621</td>\n",
       "    </tr>\n",
       "    <tr>\n",
       "      <th>2020-12-20 17:20:00</th>\n",
       "      <td>-0.008335</td>\n",
       "      <td>0.013198</td>\n",
       "    </tr>\n",
       "    <tr>\n",
       "      <th>2020-12-21 17:20:00</th>\n",
       "      <td>-0.009389</td>\n",
       "      <td>-0.000468</td>\n",
       "    </tr>\n",
       "    <tr>\n",
       "      <th>2020-12-22 17:20:00</th>\n",
       "      <td>-0.014758</td>\n",
       "      <td>-0.001877</td>\n",
       "    </tr>\n",
       "    <tr>\n",
       "      <th>2020-12-23 17:20:00</th>\n",
       "      <td>0.009925</td>\n",
       "      <td>0.006655</td>\n",
       "    </tr>\n",
       "    <tr>\n",
       "      <th>2020-12-24 17:20:00</th>\n",
       "      <td>-0.000127</td>\n",
       "      <td>-0.007497</td>\n",
       "    </tr>\n",
       "    <tr>\n",
       "      <th>2020-12-25 17:20:00</th>\n",
       "      <td>-0.000292</td>\n",
       "      <td>-0.020986</td>\n",
       "    </tr>\n",
       "    <tr>\n",
       "      <th>2020-12-26 17:20:00</th>\n",
       "      <td>0.001594</td>\n",
       "      <td>-0.009723</td>\n",
       "    </tr>\n",
       "    <tr>\n",
       "      <th>2020-12-27 17:20:00</th>\n",
       "      <td>0.013883</td>\n",
       "      <td>-0.014273</td>\n",
       "    </tr>\n",
       "    <tr>\n",
       "      <th>2020-12-28 17:20:00</th>\n",
       "      <td>0.002564</td>\n",
       "      <td>-0.029587</td>\n",
       "    </tr>\n",
       "    <tr>\n",
       "      <th>2020-12-29 17:20:00</th>\n",
       "      <td>0.004196</td>\n",
       "      <td>-0.004492</td>\n",
       "    </tr>\n",
       "    <tr>\n",
       "      <th>2020-12-30 17:20:00</th>\n",
       "      <td>-0.001745</td>\n",
       "      <td>-0.021368</td>\n",
       "    </tr>\n",
       "    <tr>\n",
       "      <th>2020-12-31 17:20:00</th>\n",
       "      <td>-0.003488</td>\n",
       "      <td>-0.012617</td>\n",
       "    </tr>\n",
       "    <tr>\n",
       "      <th>2021-01-01 17:20:00</th>\n",
       "      <td>-0.004067</td>\n",
       "      <td>-0.001205</td>\n",
       "    </tr>\n",
       "    <tr>\n",
       "      <th>2021-01-02 17:20:00</th>\n",
       "      <td>0.005582</td>\n",
       "      <td>-0.007823</td>\n",
       "    </tr>\n",
       "    <tr>\n",
       "      <th>2021-01-03 17:20:00</th>\n",
       "      <td>0.009055</td>\n",
       "      <td>0.004675</td>\n",
       "    </tr>\n",
       "    <tr>\n",
       "      <th>2021-01-04 17:20:00</th>\n",
       "      <td>-0.000434</td>\n",
       "      <td>0.005315</td>\n",
       "    </tr>\n",
       "  </tbody>\n",
       "</table>\n",
       "</div>"
      ],
      "text/plain": [
       "                     asset_1_log_returns  asset_2_log_returns\n",
       "2020-12-06 17:20:00            -0.002495            -0.007164\n",
       "2020-12-07 17:20:00            -0.008014            -0.026163\n",
       "2020-12-08 17:20:00             0.003765            -0.004675\n",
       "2020-12-09 17:20:00            -0.001883            -0.005627\n",
       "2020-12-10 17:20:00            -0.001403             0.016586\n",
       "2020-12-11 17:20:00            -0.004107            -0.014523\n",
       "2020-12-12 17:20:00             0.009391             0.015092\n",
       "2020-12-13 17:20:00             0.016332            -0.004943\n",
       "2020-12-14 17:20:00             0.002346            -0.009137\n",
       "2020-12-15 17:20:00            -0.001146             0.000893\n",
       "2020-12-16 17:20:00             0.003355             0.018702\n",
       "2020-12-17 17:20:00             0.015111             0.011714\n",
       "2020-12-18 17:20:00            -0.004475            -0.001164\n",
       "2020-12-19 17:20:00             0.000008             0.009621\n",
       "2020-12-20 17:20:00            -0.008335             0.013198\n",
       "2020-12-21 17:20:00            -0.009389            -0.000468\n",
       "2020-12-22 17:20:00            -0.014758            -0.001877\n",
       "2020-12-23 17:20:00             0.009925             0.006655\n",
       "2020-12-24 17:20:00            -0.000127            -0.007497\n",
       "2020-12-25 17:20:00            -0.000292            -0.020986\n",
       "2020-12-26 17:20:00             0.001594            -0.009723\n",
       "2020-12-27 17:20:00             0.013883            -0.014273\n",
       "2020-12-28 17:20:00             0.002564            -0.029587\n",
       "2020-12-29 17:20:00             0.004196            -0.004492\n",
       "2020-12-30 17:20:00            -0.001745            -0.021368\n",
       "2020-12-31 17:20:00            -0.003488            -0.012617\n",
       "2021-01-01 17:20:00            -0.004067            -0.001205\n",
       "2021-01-02 17:20:00             0.005582            -0.007823\n",
       "2021-01-03 17:20:00             0.009055             0.004675\n",
       "2021-01-04 17:20:00            -0.000434             0.005315"
      ]
     },
     "execution_count": 2,
     "metadata": {},
     "output_type": "execute_result"
    }
   ],
   "source": [
    "# get state data\n",
    "\n",
    "date=env.features.index[100]\n",
    "state_features, weights_on_date =env.state.get_state_on_date(target_date=date)\n",
    "print(\"on date {} we observe {} input features\".format(date,state_features.shape))\n",
    "state_features"
   ]
  },
  {
   "cell_type": "code",
   "execution_count": 3,
   "metadata": {},
   "outputs": [
    {
     "name": "stdout",
     "output_type": "stream",
     "text": [
      "and the weights that the portfolio have up to that time\n"
     ]
    },
    {
     "data": {
      "text/plain": [
       "asset_1_forward_return_7_days,_0:00:00    0.5\n",
       "asset_2_forward_return_7_days,_0:00:00    0.5\n",
       "Name: 2021-01-04 17:20:00, dtype: float64"
      ]
     },
     "execution_count": 3,
     "metadata": {},
     "output_type": "execute_result"
    }
   ],
   "source": [
    "print(\"and the weights that the portfolio have up to that time\")\n",
    "weights_on_date.head()"
   ]
  },
  {
   "cell_type": "code",
   "execution_count": 4,
   "metadata": {},
   "outputs": [
    {
     "data": {
      "text/plain": [
       "2021-01-04 17:20:00    0.006\n",
       "Freq: 1440T, dtype: float64"
      ]
     },
     "execution_count": 4,
     "metadata": {},
     "output_type": "execute_result"
    }
   ],
   "source": [
    "action_portfolio_weights = np.random.rand(2)\n",
    "obs, reward, done, info = env.step(action_portfolio_weights=action_portfolio_weights,\n",
    "                                                action_date=date)\n",
    "reward"
   ]
  },
  {
   "cell_type": "markdown",
   "metadata": {},
   "source": [
    "# Linear Policy Parametrization\n",
    "\n",
    "## Continouse Policies for Continuous Actions\n",
    "\n",
    "### Background\n",
    "\n",
    "Gaussian probability distribution:\n",
    "\n",
    "$$\n",
    "p(x):=\\frac{1}{\\sigma\\sqrt{2\\pi}}exp(-\\frac{(x-\\mu)^2}{2\\sigma^2})\n",
    "$$\n",
    "\n",
    "### Gaussian Policy\n",
    "\n",
    "$$\n",
    "\\pi(a |s,\\boldsymbol\\theta):=\\frac{1}{\\sigma(s,\\boldsymbol\\theta)\\sqrt{2\\pi}}exp(-\\frac{(a-\\mu(s,\\boldsymbol\\theta))^2}{2\\sigma(s,\\boldsymbol\\theta)^2})\n",
    "$$\n",
    "\n",
    "#### Linear Parametrization\n",
    "\n",
    "$$\n",
    "\\mu(s,\\boldsymbol\\theta) :=\\boldsymbol{\\theta_{\\mu}}^T \\pmb{x}(s)\n",
    "$$\n",
    "\n",
    "$$\n",
    "\\sigma(s,\\boldsymbol\\theta) :=exp(\\boldsymbol{\\theta_{\\sigma}}^T \\pmb{x}(s))\n",
    "$$"
   ]
  }
 ],
 "metadata": {
  "kernelspec": {
   "display_name": "p37_deep_trading",
   "language": "python",
   "name": "p37_deep_trading"
  },
  "language_info": {
   "codemirror_mode": {
    "name": "ipython",
    "version": 3
   },
   "file_extension": ".py",
   "mimetype": "text/x-python",
   "name": "python",
   "nbconvert_exporter": "python",
   "pygments_lexer": "ipython3",
   "version": "3.7.5"
  },
  "varInspector": {
   "cols": {
    "lenName": 16,
    "lenType": 16,
    "lenVar": 40
   },
   "kernels_config": {
    "python": {
     "delete_cmd_postfix": "",
     "delete_cmd_prefix": "del ",
     "library": "var_list.py",
     "varRefreshCmd": "print(var_dic_list())"
    },
    "r": {
     "delete_cmd_postfix": ") ",
     "delete_cmd_prefix": "rm(",
     "library": "var_list.r",
     "varRefreshCmd": "cat(var_dic_list()) "
    }
   },
   "types_to_exclude": [
    "module",
    "function",
    "builtin_function_or_method",
    "instance",
    "_Feature"
   ],
   "window_display": false
  }
 },
 "nbformat": 4,
 "nbformat_minor": 4
}
